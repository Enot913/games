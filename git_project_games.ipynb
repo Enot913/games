{
 "cells": [
  {
   "cell_type": "markdown",
   "id": "84944de4",
   "metadata": {},
   "source": [
    "# Анализ закономерностей, определяющих успешность игр"
   ]
  },
  {
   "cell_type": "markdown",
   "id": "40e4d688",
   "metadata": {
    "toc": true
   },
   "source": [
    "<h1>Оглавление<span class=\"tocSkip\"></span></h1>\n",
    "<div class=\"toc\"><ul class=\"toc-item\"><li><span><a href=\"#Описание-проекта\" data-toc-modified-id=\"Описание-проекта-1\"><span class=\"toc-item-num\">1&nbsp;&nbsp;</span>Описание проекта</a></span></li><li><span><a href=\"#Импортируем-данные,-изучим-и-подготовим-их-к-анализу\" data-toc-modified-id=\"Импортируем-данные,-изучим-и-подготовим-их-к-анализу-2\"><span class=\"toc-item-num\">2&nbsp;&nbsp;</span>Импортируем данные, изучим и подготовим их к анализу</a></span><ul class=\"toc-item\"><li><span><a href=\"#Обзор-данных\" data-toc-modified-id=\"Обзор-данных-2.1\"><span class=\"toc-item-num\">2.1&nbsp;&nbsp;</span>Обзор данных</a></span><ul class=\"toc-item\"><li><span><a href=\"#Импорт-библиотек\" data-toc-modified-id=\"Импорт-библиотек-2.1.1\"><span class=\"toc-item-num\">2.1.1&nbsp;&nbsp;</span>Импорт библиотек</a></span></li><li><span><a href=\"#Обзор-данных\" data-toc-modified-id=\"Обзор-данных-2.1.2\"><span class=\"toc-item-num\">2.1.2&nbsp;&nbsp;</span>Обзор данных</a></span></li><li><span><a href=\"#Вывод\" data-toc-modified-id=\"Вывод-2.1.3\"><span class=\"toc-item-num\">2.1.3&nbsp;&nbsp;</span>Вывод</a></span></li></ul></li><li><span><a href=\"#Подготовка-данных\" data-toc-modified-id=\"Подготовка-данных-2.2\"><span class=\"toc-item-num\">2.2&nbsp;&nbsp;</span>Подготовка данных</a></span><ul class=\"toc-item\"><li><span><a href=\"#Замена-названий-столбцов\" data-toc-modified-id=\"Замена-названий-столбцов-2.2.1\"><span class=\"toc-item-num\">2.2.1&nbsp;&nbsp;</span>Замена названий столбцов</a></span></li><li><span><a href=\"#Преобразование-типов-данных\" data-toc-modified-id=\"Преобразование-типов-данных-2.2.2\"><span class=\"toc-item-num\">2.2.2&nbsp;&nbsp;</span>Преобразование типов данных</a></span></li><li><span><a href=\"#Обработка-пропусков\" data-toc-modified-id=\"Обработка-пропусков-2.2.3\"><span class=\"toc-item-num\">2.2.3&nbsp;&nbsp;</span>Обработка пропусков</a></span></li><li><span><a href=\"#Подсчёт-суммарных-продаж-во-всех-регионах\" data-toc-modified-id=\"Подсчёт-суммарных-продаж-во-всех-регионах-2.2.4\"><span class=\"toc-item-num\">2.2.4&nbsp;&nbsp;</span>Подсчёт суммарных продаж во всех регионах</a></span></li><li><span><a href=\"#Вывод\" data-toc-modified-id=\"Вывод-2.2.5\"><span class=\"toc-item-num\">2.2.5&nbsp;&nbsp;</span>Вывод</a></span></li></ul></li></ul></li><li><span><a href=\"#Исследовательский-анализ-данных\" data-toc-modified-id=\"Исследовательский-анализ-данных-3\"><span class=\"toc-item-num\">3&nbsp;&nbsp;</span>Исследовательский анализ данных</a></span><ul class=\"toc-item\"><li><span><a href=\"#Количество-игр,-выпущенных-в-разные-годы\" data-toc-modified-id=\"Количество-игр,-выпущенных-в-разные-годы-3.1\"><span class=\"toc-item-num\">3.1&nbsp;&nbsp;</span>Количество игр, выпущенных в разные годы</a></span></li><li><span><a href=\"#Анализ-продаж-по-платформам\" data-toc-modified-id=\"Анализ-продаж-по-платформам-3.2\"><span class=\"toc-item-num\">3.2&nbsp;&nbsp;</span>Анализ продаж по платформам</a></span></li><li><span><a href=\"#Актуальный-период\" data-toc-modified-id=\"Актуальный-период-3.3\"><span class=\"toc-item-num\">3.3&nbsp;&nbsp;</span>Актуальный период</a></span></li><li><span><a href=\"#Лидирующие-платформы\" data-toc-modified-id=\"Лидирующие-платформы-3.4\"><span class=\"toc-item-num\">3.4&nbsp;&nbsp;</span>Лидирующие платформы</a></span></li><li><span><a href=\"#Диаграмма-размаха-(&quot;ящик-с-усами&quot;)\" data-toc-modified-id=\"Диаграмма-размаха-(&quot;ящик-с-усами&quot;)-3.5\"><span class=\"toc-item-num\">3.5&nbsp;&nbsp;</span>Диаграмма размаха (\"ящик с усами\")</a></span></li><li><span><a href=\"#Влияние-отзывов-на-продажи\" data-toc-modified-id=\"Влияние-отзывов-на-продажи-3.6\"><span class=\"toc-item-num\">3.6&nbsp;&nbsp;</span>Влияние отзывов на продажи</a></span></li><li><span><a href=\"#Распределение-игр-по-жанрам\" data-toc-modified-id=\"Распределение-игр-по-жанрам-3.7\"><span class=\"toc-item-num\">3.7&nbsp;&nbsp;</span>Распределение игр по жанрам</a></span></li><li><span><a href=\"#Вывод\" data-toc-modified-id=\"Вывод-3.8\"><span class=\"toc-item-num\">3.8&nbsp;&nbsp;</span>Вывод</a></span></li></ul></li><li><span><a href=\"#Портрет-пользователя-каждого-региона\" data-toc-modified-id=\"Портрет-пользователя-каждого-региона-4\"><span class=\"toc-item-num\">4&nbsp;&nbsp;</span>Портрет пользователя каждого региона</a></span><ul class=\"toc-item\"><li><span><a href=\"#Вывод\" data-toc-modified-id=\"Вывод-4.1\"><span class=\"toc-item-num\">4.1&nbsp;&nbsp;</span>Вывод</a></span></li></ul></li><li><span><a href=\"#Проверка-гипотез\" data-toc-modified-id=\"Проверка-гипотез-5\"><span class=\"toc-item-num\">5&nbsp;&nbsp;</span>Проверка гипотез</a></span><ul class=\"toc-item\"><li><span><a href=\"#Расчёт-дисперсии-пользовательских-рейтингов\" data-toc-modified-id=\"Расчёт-дисперсии-пользовательских-рейтингов-5.1\"><span class=\"toc-item-num\">5.1&nbsp;&nbsp;</span>Расчёт дисперсии пользовательских рейтингов</a></span></li><li><span><a href=\"#Гипотеза-№-1:-Средние-пользовательские-рейтинги-платформ-Xbox-One-и-PC\" data-toc-modified-id=\"Гипотеза-№-1:-Средние-пользовательские-рейтинги-платформ-Xbox-One-и-PC-5.2\"><span class=\"toc-item-num\">5.2&nbsp;&nbsp;</span>Гипотеза № 1: Средние пользовательские рейтинги платформ Xbox One и PC</a></span><ul class=\"toc-item\"><li><span><a href=\"#Вывод\" data-toc-modified-id=\"Вывод-5.2.1\"><span class=\"toc-item-num\">5.2.1&nbsp;&nbsp;</span>Вывод</a></span></li></ul></li><li><span><a href=\"#Гипотеза-№-2:-Средние-пользовательские-рейтинги-жанров-Action-и-Sports\" data-toc-modified-id=\"Гипотеза-№-2:-Средние-пользовательские-рейтинги-жанров-Action-и-Sports-5.3\"><span class=\"toc-item-num\">5.3&nbsp;&nbsp;</span>Гипотеза № 2: Средние пользовательские рейтинги жанров Action и Sports</a></span><ul class=\"toc-item\"><li><span><a href=\"#Вывод\" data-toc-modified-id=\"Вывод-5.3.1\"><span class=\"toc-item-num\">5.3.1&nbsp;&nbsp;</span>Вывод</a></span></li></ul></li><li><span><a href=\"#Вывод\" data-toc-modified-id=\"Вывод-5.4\"><span class=\"toc-item-num\">5.4&nbsp;&nbsp;</span>Вывод</a></span></li></ul></li><li><span><a href=\"#Общий-вывод\" data-toc-modified-id=\"Общий-вывод-6\"><span class=\"toc-item-num\">6&nbsp;&nbsp;</span>Общий вывод</a></span></li></ul></div>"
   ]
  },
  {
   "cell_type": "markdown",
   "id": "9e0d4248",
   "metadata": {},
   "source": [
    "## Описание проекта"
   ]
  },
  {
   "cell_type": "markdown",
   "id": "818f81cd",
   "metadata": {},
   "source": [
    "Для анализа представлены данные интернет-магазина компьютерных игр за период с 1980 до 2016 годы.  \n",
    "Имеются данные о продажах игр, оценки пользователей и экспертов, жанры и платформы.  \n",
    "\n",
    "**Описание данных**  \n",
    "- *Name* — название игры  \n",
    "- *Platform* — платформа  \n",
    "- *Year_of_Release* — год выпуска  \n",
    "- *Genre* — жанр игры  \n",
    "- *NA_sales* — продажи в Северной Америке (миллионы проданных копий)  \n",
    "- *EU_sales* — продажи в Европе (миллионы проданных копий)  \n",
    "- *JP_sales* — продажи в Японии (миллионы проданных копий)  \n",
    "- *Other_sales* — продажи в других странах (миллионы проданных копий)  \n",
    "- *Critic_Score* — оценка критиков (максимум 100)  \n",
    "- *User_Score* — оценка пользователей (максимум 10)  \n",
    "- *Rating* — рейтинг от организации ESRB (англ. Entertainment Software Rating Board). Эта ассоциация определяет рейтинг компьютерных игр и присваивает им подходящую возрастную категорию."
   ]
  },
  {
   "cell_type": "markdown",
   "id": "0786d85c",
   "metadata": {},
   "source": [
    "*Расшифровки некоторых рейтингов ESRB (Entertainment Software Rating Board) — ассоциации, определяющей возрастной рейтинг компьютерных игр:*  \n",
    "\n",
    "**«M» («Mature»)** — «Для взрослых»: Материалы игры не подходят для подростков младше 17 лет. Проекты с данным рейтингом могут содержать достаточно жестокое насилие, большое количество крови с расчленением, непристойные сексуальные сцены или грубую ненормативную лексику, нежелательную для младшей аудитории.  \n",
    "\n",
    "**«E» («Everyone»)** — «Для всех»: Содержание вполне подходит для возрастной категории от 6 лет. Такие игры могут понравиться и взрослым. Игры с этим рейтингом могут содержать минимальное насилие, в основном «мультяшного» характера.  \n",
    "\n",
    "**«T» («Teen»)** — «Подросткам»: Игра подходит для лиц от 13 лет. Проекты из данной категории могут содержать насилие, непристойные сцены, грубый юмор, в меру откровенное сексуальное содержимое, кровь или нечастое использование ненормативной лексики.  \n",
    "\n",
    "**«E10+» («Everyone 10 and older»)** — «Для всех от 10 лет и старше»: Проекты с данным рейтингом могут содержать или немного больше мультипликационного или мягкого насилия, или несколько откровенные сцены, или минимальное количество крови.\n",
    "\n",
    "*Расшифровки рейтингов взяты со статьи Википедии: (https://ru.wikipedia.org/wiki/Entertainment_Software_Rating_Board)*"
   ]
  },
  {
   "cell_type": "markdown",
   "id": "9d09c72f",
   "metadata": {},
   "source": [
    "**Цели исследования:**"
   ]
  },
  {
   "cell_type": "markdown",
   "id": "cf5e67b3",
   "metadata": {},
   "source": [
    "Необходимо отработать принцип работы с данными для кампании на 2017 год и выявить закономерности, определяющие успешность игры."
   ]
  },
  {
   "cell_type": "markdown",
   "id": "e1dac37e",
   "metadata": {},
   "source": [
    "## Импортируем данные, изучим и подготовим их к анализу"
   ]
  },
  {
   "cell_type": "markdown",
   "id": "8e84ab23",
   "metadata": {},
   "source": [
    "### Обзор данных"
   ]
  },
  {
   "cell_type": "markdown",
   "id": "38db18f3",
   "metadata": {},
   "source": [
    "#### Импорт библиотек"
   ]
  },
  {
   "cell_type": "code",
   "execution_count": 1,
   "id": "79afbcfc",
   "metadata": {},
   "outputs": [],
   "source": [
    "import pandas as pd\n",
    "import matplotlib.pyplot as plt\n",
    "import seaborn as sns\n",
    "import math\n",
    "import numpy as np\n",
    "from scipy import stats as st"
   ]
  },
  {
   "cell_type": "code",
   "execution_count": 2,
   "id": "5154bdb2",
   "metadata": {},
   "outputs": [],
   "source": [
    "pd.options.display.float_format = '{:.2f}'.format"
   ]
  },
  {
   "cell_type": "code",
   "execution_count": 3,
   "id": "ab1048cc",
   "metadata": {},
   "outputs": [],
   "source": [
    "import warnings\n",
    "\n",
    "warnings.filterwarnings('ignore')"
   ]
  },
  {
   "cell_type": "markdown",
   "id": "f2a0824a",
   "metadata": {},
   "source": [
    "#### Обзор данных"
   ]
  },
  {
   "cell_type": "code",
   "execution_count": 4,
   "id": "3e2ebfb4",
   "metadata": {},
   "outputs": [],
   "source": [
    "gms = pd.read_csv('games.csv', sep=',')"
   ]
  },
  {
   "cell_type": "code",
   "execution_count": 5,
   "id": "3c0fac5d",
   "metadata": {},
   "outputs": [
    {
     "data": {
      "text/html": [
       "<div>\n",
       "<style scoped>\n",
       "    .dataframe tbody tr th:only-of-type {\n",
       "        vertical-align: middle;\n",
       "    }\n",
       "\n",
       "    .dataframe tbody tr th {\n",
       "        vertical-align: top;\n",
       "    }\n",
       "\n",
       "    .dataframe thead th {\n",
       "        text-align: right;\n",
       "    }\n",
       "</style>\n",
       "<table border=\"1\" class=\"dataframe\">\n",
       "  <thead>\n",
       "    <tr style=\"text-align: right;\">\n",
       "      <th></th>\n",
       "      <th>Name</th>\n",
       "      <th>Platform</th>\n",
       "      <th>Year_of_Release</th>\n",
       "      <th>Genre</th>\n",
       "      <th>NA_sales</th>\n",
       "      <th>EU_sales</th>\n",
       "      <th>JP_sales</th>\n",
       "      <th>Other_sales</th>\n",
       "      <th>Critic_Score</th>\n",
       "      <th>User_Score</th>\n",
       "      <th>Rating</th>\n",
       "    </tr>\n",
       "  </thead>\n",
       "  <tbody>\n",
       "    <tr>\n",
       "      <th>0</th>\n",
       "      <td>Wii Sports</td>\n",
       "      <td>Wii</td>\n",
       "      <td>2006.00</td>\n",
       "      <td>Sports</td>\n",
       "      <td>41.36</td>\n",
       "      <td>28.96</td>\n",
       "      <td>3.77</td>\n",
       "      <td>8.45</td>\n",
       "      <td>76.00</td>\n",
       "      <td>8</td>\n",
       "      <td>E</td>\n",
       "    </tr>\n",
       "    <tr>\n",
       "      <th>1</th>\n",
       "      <td>Super Mario Bros.</td>\n",
       "      <td>NES</td>\n",
       "      <td>1985.00</td>\n",
       "      <td>Platform</td>\n",
       "      <td>29.08</td>\n",
       "      <td>3.58</td>\n",
       "      <td>6.81</td>\n",
       "      <td>0.77</td>\n",
       "      <td>NaN</td>\n",
       "      <td>NaN</td>\n",
       "      <td>NaN</td>\n",
       "    </tr>\n",
       "    <tr>\n",
       "      <th>2</th>\n",
       "      <td>Mario Kart Wii</td>\n",
       "      <td>Wii</td>\n",
       "      <td>2008.00</td>\n",
       "      <td>Racing</td>\n",
       "      <td>15.68</td>\n",
       "      <td>12.76</td>\n",
       "      <td>3.79</td>\n",
       "      <td>3.29</td>\n",
       "      <td>82.00</td>\n",
       "      <td>8.3</td>\n",
       "      <td>E</td>\n",
       "    </tr>\n",
       "    <tr>\n",
       "      <th>3</th>\n",
       "      <td>Wii Sports Resort</td>\n",
       "      <td>Wii</td>\n",
       "      <td>2009.00</td>\n",
       "      <td>Sports</td>\n",
       "      <td>15.61</td>\n",
       "      <td>10.93</td>\n",
       "      <td>3.28</td>\n",
       "      <td>2.95</td>\n",
       "      <td>80.00</td>\n",
       "      <td>8</td>\n",
       "      <td>E</td>\n",
       "    </tr>\n",
       "    <tr>\n",
       "      <th>4</th>\n",
       "      <td>Pokemon Red/Pokemon Blue</td>\n",
       "      <td>GB</td>\n",
       "      <td>1996.00</td>\n",
       "      <td>Role-Playing</td>\n",
       "      <td>11.27</td>\n",
       "      <td>8.89</td>\n",
       "      <td>10.22</td>\n",
       "      <td>1.00</td>\n",
       "      <td>NaN</td>\n",
       "      <td>NaN</td>\n",
       "      <td>NaN</td>\n",
       "    </tr>\n",
       "  </tbody>\n",
       "</table>\n",
       "</div>"
      ],
      "text/plain": [
       "                       Name Platform  Year_of_Release         Genre  NA_sales  \\\n",
       "0                Wii Sports      Wii          2006.00        Sports     41.36   \n",
       "1         Super Mario Bros.      NES          1985.00      Platform     29.08   \n",
       "2            Mario Kart Wii      Wii          2008.00        Racing     15.68   \n",
       "3         Wii Sports Resort      Wii          2009.00        Sports     15.61   \n",
       "4  Pokemon Red/Pokemon Blue       GB          1996.00  Role-Playing     11.27   \n",
       "\n",
       "   EU_sales  JP_sales  Other_sales  Critic_Score User_Score Rating  \n",
       "0     28.96      3.77         8.45         76.00          8      E  \n",
       "1      3.58      6.81         0.77           NaN        NaN    NaN  \n",
       "2     12.76      3.79         3.29         82.00        8.3      E  \n",
       "3     10.93      3.28         2.95         80.00          8      E  \n",
       "4      8.89     10.22         1.00           NaN        NaN    NaN  "
      ]
     },
     "execution_count": 5,
     "metadata": {},
     "output_type": "execute_result"
    }
   ],
   "source": [
    "gms.head()"
   ]
  },
  {
   "cell_type": "code",
   "execution_count": 6,
   "id": "55c7eb05",
   "metadata": {},
   "outputs": [
    {
     "name": "stdout",
     "output_type": "stream",
     "text": [
      "<class 'pandas.core.frame.DataFrame'>\n",
      "RangeIndex: 16715 entries, 0 to 16714\n",
      "Data columns (total 11 columns):\n",
      " #   Column           Non-Null Count  Dtype  \n",
      "---  ------           --------------  -----  \n",
      " 0   Name             16713 non-null  object \n",
      " 1   Platform         16715 non-null  object \n",
      " 2   Year_of_Release  16446 non-null  float64\n",
      " 3   Genre            16713 non-null  object \n",
      " 4   NA_sales         16715 non-null  float64\n",
      " 5   EU_sales         16715 non-null  float64\n",
      " 6   JP_sales         16715 non-null  float64\n",
      " 7   Other_sales      16715 non-null  float64\n",
      " 8   Critic_Score     8137 non-null   float64\n",
      " 9   User_Score       10014 non-null  object \n",
      " 10  Rating           9949 non-null   object \n",
      "dtypes: float64(6), object(5)\n",
      "memory usage: 1.4+ MB\n"
     ]
    }
   ],
   "source": [
    "gms.info()"
   ]
  },
  {
   "cell_type": "code",
   "execution_count": 7,
   "id": "5948b5eb",
   "metadata": {},
   "outputs": [
    {
     "name": "stdout",
     "output_type": "stream",
     "text": [
      "Дубликатов: 0\n"
     ]
    }
   ],
   "source": [
    "print('Дубликатов:', gms.duplicated().sum());"
   ]
  },
  {
   "cell_type": "markdown",
   "id": "13e385ea",
   "metadata": {},
   "source": [
    "#### Вывод"
   ]
  },
  {
   "cell_type": "markdown",
   "id": "99b3f8d8",
   "metadata": {},
   "source": [
    "Датафрейм gms имеет 16715 строк, 11 столбцов.  \n",
    "Столбцы поименованы некорректно - переименуем их, приведя к единому регистру.  \n",
    "Необходима корректировка типов данных в некоторых столбцах, например, в столбце с годом релиза.  \n",
    "В данных имеется большое число пропусков, которые мы обработаем на этапе предобработки.  \n",
    "Явных дубликатов не найдено."
   ]
  },
  {
   "cell_type": "markdown",
   "id": "5089f68a",
   "metadata": {},
   "source": [
    "### Подготовка данных"
   ]
  },
  {
   "cell_type": "markdown",
   "id": "756a7a8a",
   "metadata": {},
   "source": [
    "#### Замена названий столбцов"
   ]
  },
  {
   "cell_type": "markdown",
   "id": "34c1795f",
   "metadata": {},
   "source": [
    "Приведём названия столбцов к единому регистру"
   ]
  },
  {
   "cell_type": "code",
   "execution_count": 8,
   "id": "4a7f3e3e",
   "metadata": {},
   "outputs": [
    {
     "data": {
      "text/plain": [
       "Index(['Name', 'Platform', 'Year_of_Release', 'Genre', 'NA_sales', 'EU_sales',\n",
       "       'JP_sales', 'Other_sales', 'Critic_Score', 'User_Score', 'Rating'],\n",
       "      dtype='object')"
      ]
     },
     "execution_count": 8,
     "metadata": {},
     "output_type": "execute_result"
    }
   ],
   "source": [
    "gms.columns"
   ]
  },
  {
   "cell_type": "code",
   "execution_count": 9,
   "id": "c5cda0f9",
   "metadata": {},
   "outputs": [
    {
     "data": {
      "text/html": [
       "<div>\n",
       "<style scoped>\n",
       "    .dataframe tbody tr th:only-of-type {\n",
       "        vertical-align: middle;\n",
       "    }\n",
       "\n",
       "    .dataframe tbody tr th {\n",
       "        vertical-align: top;\n",
       "    }\n",
       "\n",
       "    .dataframe thead th {\n",
       "        text-align: right;\n",
       "    }\n",
       "</style>\n",
       "<table border=\"1\" class=\"dataframe\">\n",
       "  <thead>\n",
       "    <tr style=\"text-align: right;\">\n",
       "      <th></th>\n",
       "      <th>name</th>\n",
       "      <th>platform</th>\n",
       "      <th>year_of_release</th>\n",
       "      <th>genre</th>\n",
       "      <th>na_sales</th>\n",
       "      <th>eu_sales</th>\n",
       "      <th>jp_sales</th>\n",
       "      <th>other_sales</th>\n",
       "      <th>critic_score</th>\n",
       "      <th>user_score</th>\n",
       "      <th>rating</th>\n",
       "    </tr>\n",
       "  </thead>\n",
       "  <tbody>\n",
       "    <tr>\n",
       "      <th>0</th>\n",
       "      <td>Wii Sports</td>\n",
       "      <td>Wii</td>\n",
       "      <td>2006.00</td>\n",
       "      <td>Sports</td>\n",
       "      <td>41.36</td>\n",
       "      <td>28.96</td>\n",
       "      <td>3.77</td>\n",
       "      <td>8.45</td>\n",
       "      <td>76.00</td>\n",
       "      <td>8</td>\n",
       "      <td>E</td>\n",
       "    </tr>\n",
       "    <tr>\n",
       "      <th>1</th>\n",
       "      <td>Super Mario Bros.</td>\n",
       "      <td>NES</td>\n",
       "      <td>1985.00</td>\n",
       "      <td>Platform</td>\n",
       "      <td>29.08</td>\n",
       "      <td>3.58</td>\n",
       "      <td>6.81</td>\n",
       "      <td>0.77</td>\n",
       "      <td>NaN</td>\n",
       "      <td>NaN</td>\n",
       "      <td>NaN</td>\n",
       "    </tr>\n",
       "    <tr>\n",
       "      <th>2</th>\n",
       "      <td>Mario Kart Wii</td>\n",
       "      <td>Wii</td>\n",
       "      <td>2008.00</td>\n",
       "      <td>Racing</td>\n",
       "      <td>15.68</td>\n",
       "      <td>12.76</td>\n",
       "      <td>3.79</td>\n",
       "      <td>3.29</td>\n",
       "      <td>82.00</td>\n",
       "      <td>8.3</td>\n",
       "      <td>E</td>\n",
       "    </tr>\n",
       "  </tbody>\n",
       "</table>\n",
       "</div>"
      ],
      "text/plain": [
       "                name platform  year_of_release     genre  na_sales  eu_sales  \\\n",
       "0         Wii Sports      Wii          2006.00    Sports     41.36     28.96   \n",
       "1  Super Mario Bros.      NES          1985.00  Platform     29.08      3.58   \n",
       "2     Mario Kart Wii      Wii          2008.00    Racing     15.68     12.76   \n",
       "\n",
       "   jp_sales  other_sales  critic_score user_score rating  \n",
       "0      3.77         8.45         76.00          8      E  \n",
       "1      6.81         0.77           NaN        NaN    NaN  \n",
       "2      3.79         3.29         82.00        8.3      E  "
      ]
     },
     "execution_count": 9,
     "metadata": {},
     "output_type": "execute_result"
    }
   ],
   "source": [
    "gms.columns = gms.columns.str.lower()\n",
    "gms.head(3)"
   ]
  },
  {
   "cell_type": "markdown",
   "id": "ae71f552",
   "metadata": {},
   "source": [
    "#### Преобразование типов данных"
   ]
  },
  {
   "cell_type": "code",
   "execution_count": 10,
   "id": "baa63db7",
   "metadata": {},
   "outputs": [
    {
     "data": {
      "text/plain": [
       "name                object\n",
       "platform            object\n",
       "year_of_release    float64\n",
       "genre               object\n",
       "na_sales           float64\n",
       "eu_sales           float64\n",
       "jp_sales           float64\n",
       "other_sales        float64\n",
       "critic_score       float64\n",
       "user_score          object\n",
       "rating              object\n",
       "dtype: object"
      ]
     },
     "execution_count": 10,
     "metadata": {},
     "output_type": "execute_result"
    }
   ],
   "source": [
    "gms.dtypes"
   ]
  },
  {
   "cell_type": "markdown",
   "id": "57591303",
   "metadata": {},
   "source": [
    "Поскольку в столбце year_of_release нас интересует только год релиза, просто поменяем тип столбца с float на int"
   ]
  },
  {
   "cell_type": "code",
   "execution_count": 11,
   "id": "10593bc6",
   "metadata": {},
   "outputs": [],
   "source": [
    "gms['year_of_release'] = gms['year_of_release'].astype('Int64')"
   ]
  },
  {
   "cell_type": "code",
   "execution_count": 12,
   "id": "05c977c2",
   "metadata": {},
   "outputs": [
    {
     "data": {
      "text/plain": [
       "name                object\n",
       "platform            object\n",
       "year_of_release      Int64\n",
       "genre               object\n",
       "na_sales           float64\n",
       "eu_sales           float64\n",
       "jp_sales           float64\n",
       "other_sales        float64\n",
       "critic_score       float64\n",
       "user_score          object\n",
       "rating              object\n",
       "dtype: object"
      ]
     },
     "execution_count": 12,
     "metadata": {},
     "output_type": "execute_result"
    }
   ],
   "source": [
    "gms.dtypes"
   ]
  },
  {
   "cell_type": "markdown",
   "id": "81eaf44d",
   "metadata": {},
   "source": [
    "#### Обработка пропусков"
   ]
  },
  {
   "cell_type": "markdown",
   "id": "7c636819",
   "metadata": {},
   "source": [
    "Проверим общее количество пропусков в датафрейме по каждому столбцу"
   ]
  },
  {
   "cell_type": "code",
   "execution_count": 13,
   "id": "36b7b564",
   "metadata": {},
   "outputs": [
    {
     "data": {
      "text/plain": [
       "name                  2\n",
       "platform              0\n",
       "year_of_release     269\n",
       "genre                 2\n",
       "na_sales              0\n",
       "eu_sales              0\n",
       "jp_sales              0\n",
       "other_sales           0\n",
       "critic_score       8578\n",
       "user_score         6701\n",
       "rating             6766\n",
       "dtype: int64"
      ]
     },
     "execution_count": 13,
     "metadata": {},
     "output_type": "execute_result"
    }
   ],
   "source": [
    "gms.isna().sum()"
   ]
  },
  {
   "cell_type": "code",
   "execution_count": 14,
   "id": "253a6ae4",
   "metadata": {
    "scrolled": true
   },
   "outputs": [
    {
     "data": {
      "text/html": [
       "<div>\n",
       "<style scoped>\n",
       "    .dataframe tbody tr th:only-of-type {\n",
       "        vertical-align: middle;\n",
       "    }\n",
       "\n",
       "    .dataframe tbody tr th {\n",
       "        vertical-align: top;\n",
       "    }\n",
       "\n",
       "    .dataframe thead th {\n",
       "        text-align: right;\n",
       "    }\n",
       "</style>\n",
       "<table border=\"1\" class=\"dataframe\">\n",
       "  <thead>\n",
       "    <tr style=\"text-align: right;\">\n",
       "      <th></th>\n",
       "      <th>name</th>\n",
       "      <th>platform</th>\n",
       "      <th>year_of_release</th>\n",
       "      <th>genre</th>\n",
       "      <th>na_sales</th>\n",
       "      <th>eu_sales</th>\n",
       "      <th>jp_sales</th>\n",
       "      <th>other_sales</th>\n",
       "      <th>critic_score</th>\n",
       "      <th>user_score</th>\n",
       "      <th>rating</th>\n",
       "    </tr>\n",
       "  </thead>\n",
       "  <tbody>\n",
       "    <tr>\n",
       "      <th>659</th>\n",
       "      <td>NaN</td>\n",
       "      <td>GEN</td>\n",
       "      <td>1993</td>\n",
       "      <td>NaN</td>\n",
       "      <td>1.78</td>\n",
       "      <td>0.53</td>\n",
       "      <td>0.00</td>\n",
       "      <td>0.08</td>\n",
       "      <td>NaN</td>\n",
       "      <td>NaN</td>\n",
       "      <td>NaN</td>\n",
       "    </tr>\n",
       "    <tr>\n",
       "      <th>14244</th>\n",
       "      <td>NaN</td>\n",
       "      <td>GEN</td>\n",
       "      <td>1993</td>\n",
       "      <td>NaN</td>\n",
       "      <td>0.00</td>\n",
       "      <td>0.00</td>\n",
       "      <td>0.03</td>\n",
       "      <td>0.00</td>\n",
       "      <td>NaN</td>\n",
       "      <td>NaN</td>\n",
       "      <td>NaN</td>\n",
       "    </tr>\n",
       "  </tbody>\n",
       "</table>\n",
       "</div>"
      ],
      "text/plain": [
       "      name platform  year_of_release genre  na_sales  eu_sales  jp_sales  \\\n",
       "659    NaN      GEN             1993   NaN      1.78      0.53      0.00   \n",
       "14244  NaN      GEN             1993   NaN      0.00      0.00      0.03   \n",
       "\n",
       "       other_sales  critic_score user_score rating  \n",
       "659           0.08           NaN        NaN    NaN  \n",
       "14244         0.00           NaN        NaN    NaN  "
      ]
     },
     "execution_count": 14,
     "metadata": {},
     "output_type": "execute_result"
    }
   ],
   "source": [
    "gms[gms['genre'].isna()]"
   ]
  },
  {
   "cell_type": "markdown",
   "id": "933a15f9",
   "metadata": {},
   "source": [
    "Две строки с пропусками почти во всех столбцах имеет смысл просто удалить - это не повлияет на процесс исследования"
   ]
  },
  {
   "cell_type": "code",
   "execution_count": 15,
   "id": "feaf9c41",
   "metadata": {
    "scrolled": false
   },
   "outputs": [
    {
     "name": "stdout",
     "output_type": "stream",
     "text": [
      "<class 'pandas.core.frame.DataFrame'>\n",
      "RangeIndex: 16713 entries, 0 to 16712\n",
      "Data columns (total 11 columns):\n",
      " #   Column           Non-Null Count  Dtype  \n",
      "---  ------           --------------  -----  \n",
      " 0   name             16713 non-null  object \n",
      " 1   platform         16713 non-null  object \n",
      " 2   year_of_release  16444 non-null  Int64  \n",
      " 3   genre            16713 non-null  object \n",
      " 4   na_sales         16713 non-null  float64\n",
      " 5   eu_sales         16713 non-null  float64\n",
      " 6   jp_sales         16713 non-null  float64\n",
      " 7   other_sales      16713 non-null  float64\n",
      " 8   critic_score     8137 non-null   float64\n",
      " 9   user_score       10014 non-null  object \n",
      " 10  rating           9949 non-null   object \n",
      "dtypes: Int64(1), float64(5), object(5)\n",
      "memory usage: 1.4+ MB\n"
     ]
    }
   ],
   "source": [
    "gms = gms.drop(gms[gms['genre'].isna()].index).reset_index(drop=True)\n",
    "gms.info()"
   ]
  },
  {
   "cell_type": "markdown",
   "id": "027a2e1d",
   "metadata": {},
   "source": [
    "Есть незначительные пропуски в столбце year_of_release. Узнаем долю пропусков относительно всего датасета"
   ]
  },
  {
   "cell_type": "code",
   "execution_count": 16,
   "id": "f1fe036d",
   "metadata": {},
   "outputs": [
    {
     "name": "stdout",
     "output_type": "stream",
     "text": [
      "Объем пропусков в столбце с годом релиза = 1.6 %\n"
     ]
    }
   ],
   "source": [
    "print('Объем пропусков в столбце с годом релиза =', \\\n",
    "      round(gms.year_of_release.isna().sum() / len(gms.index) * 100, 1), '%')"
   ]
  },
  {
   "cell_type": "markdown",
   "id": "d74e37ca",
   "metadata": {},
   "source": [
    "Как видим, объем пропусков - менее 2 %.  \n",
    "\n",
    "Да, можно было бы частично заполнить пропуски годами из названий игр - но это весьма трудозатратно и заполнение будет незначительным - мало какие игры содержат в своих наваниях годы релиза - и те недостоверные. Так, например, игра \"madden nfl 11\" по факту вышла в 2010 году, а не в 2011, как можно было бы предположить из её названия.  \n",
    "\n",
    "Поскольку в итоге мы будем исследовать данные за определённый период, за счёт пропусков в столбце с годами релиза, мы этот период использовать не сможем. Поэтому нами принято решение удалить из датасета строки с пропусками в столбце year_of_release."
   ]
  },
  {
   "cell_type": "code",
   "execution_count": 17,
   "id": "f47bc6dd",
   "metadata": {},
   "outputs": [
    {
     "name": "stdout",
     "output_type": "stream",
     "text": [
      "<class 'pandas.core.frame.DataFrame'>\n",
      "RangeIndex: 16444 entries, 0 to 16443\n",
      "Data columns (total 11 columns):\n",
      " #   Column           Non-Null Count  Dtype  \n",
      "---  ------           --------------  -----  \n",
      " 0   name             16444 non-null  object \n",
      " 1   platform         16444 non-null  object \n",
      " 2   year_of_release  16444 non-null  Int64  \n",
      " 3   genre            16444 non-null  object \n",
      " 4   na_sales         16444 non-null  float64\n",
      " 5   eu_sales         16444 non-null  float64\n",
      " 6   jp_sales         16444 non-null  float64\n",
      " 7   other_sales      16444 non-null  float64\n",
      " 8   critic_score     7983 non-null   float64\n",
      " 9   user_score       9839 non-null   object \n",
      " 10  rating           9768 non-null   object \n",
      "dtypes: Int64(1), float64(5), object(5)\n",
      "memory usage: 1.4+ MB\n"
     ]
    }
   ],
   "source": [
    "gms = gms.drop(gms[gms['year_of_release'].isna()].index).reset_index(drop=True)\n",
    "gms.info()"
   ]
  },
  {
   "cell_type": "markdown",
   "id": "f9271f49",
   "metadata": {},
   "source": [
    "Выведем список уникальных значений в этих столбцах critic_score, user_score и rating на предмет наличия каких-либо артефактов"
   ]
  },
  {
   "cell_type": "code",
   "execution_count": 18,
   "id": "7b422135",
   "metadata": {},
   "outputs": [
    {
     "data": {
      "text/plain": [
       "array(['E', nan, 'M', 'T', 'E10+', 'K-A', 'AO', 'EC', 'RP'], dtype=object)"
      ]
     },
     "execution_count": 18,
     "metadata": {},
     "output_type": "execute_result"
    }
   ],
   "source": [
    "gms.rating.unique()"
   ]
  },
  {
   "cell_type": "code",
   "execution_count": 19,
   "id": "9e2b3276",
   "metadata": {},
   "outputs": [
    {
     "data": {
      "text/plain": [
       "array([76., nan, 82., 80., 89., 58., 87., 91., 61., 97., 95., 77., 88.,\n",
       "       83., 94., 93., 85., 86., 98., 96., 90., 84., 73., 74., 78., 92.,\n",
       "       71., 72., 68., 62., 49., 67., 81., 66., 56., 79., 70., 59., 64.,\n",
       "       75., 60., 63., 69., 50., 25., 42., 44., 55., 48., 57., 29., 47.,\n",
       "       65., 54., 20., 53., 37., 38., 33., 52., 30., 32., 43., 45., 51.,\n",
       "       40., 46., 39., 34., 41., 36., 31., 27., 35., 26., 19., 28., 23.,\n",
       "       24., 21., 17., 13.])"
      ]
     },
     "execution_count": 19,
     "metadata": {},
     "output_type": "execute_result"
    }
   ],
   "source": [
    "gms.critic_score.unique()"
   ]
  },
  {
   "cell_type": "code",
   "execution_count": 20,
   "id": "f62e3200",
   "metadata": {},
   "outputs": [
    {
     "data": {
      "text/plain": [
       "array(['8', nan, '8.3', '8.5', '6.6', '8.4', '8.6', '7.7', '6.3', '7.4',\n",
       "       '8.2', '9', '7.9', '8.1', '8.7', '7.1', '3.4', '5.3', '4.8', '3.2',\n",
       "       '8.9', '6.4', '7.8', '7.5', '2.6', '7.2', '9.2', '7', '7.3', '4.3',\n",
       "       '7.6', '5.7', '5', '9.1', '6.5', 'tbd', '8.8', '6.9', '9.4', '6.8',\n",
       "       '6.1', '6.7', '5.4', '4', '4.9', '4.5', '9.3', '6.2', '4.2', '6',\n",
       "       '3.7', '4.1', '5.8', '5.6', '5.5', '4.4', '4.6', '5.9', '3.9',\n",
       "       '3.1', '2.9', '5.2', '3.3', '4.7', '5.1', '3.5', '2.5', '1.9', '3',\n",
       "       '2.7', '2.2', '2', '9.5', '2.1', '3.6', '2.8', '1.8', '3.8', '0',\n",
       "       '1.6', '9.6', '2.4', '1.7', '1.1', '0.3', '1.5', '0.7', '1.2',\n",
       "       '2.3', '0.5', '1.3', '0.2', '0.6', '1.4', '0.9', '1', '9.7'],\n",
       "      dtype=object)"
      ]
     },
     "execution_count": 20,
     "metadata": {},
     "output_type": "execute_result"
    }
   ],
   "source": [
    "gms.user_score.unique()"
   ]
  },
  {
   "cell_type": "markdown",
   "id": "d4f7c083",
   "metadata": {},
   "source": [
    "Помимо привычного nan в столбце user_score бросается в глаза оценка tbd. TBD - аббревиатура от английского To Be Determined (будет определено) или To Be Decided (будет решено). Используется, если какая-то информация еще не определена или решение по вопросу не принято.  \n",
    "По сути - это те же nan, поэтому предлагаем этим и заменить значения с tbd и сразу же заменить тип данных в столбце с object на nan."
   ]
  },
  {
   "cell_type": "code",
   "execution_count": 21,
   "id": "732ea840",
   "metadata": {},
   "outputs": [
    {
     "data": {
      "text/plain": [
       "array([8. , nan, 8.3, 8.5, 6.6, 8.4, 8.6, 7.7, 6.3, 7.4, 8.2, 9. , 7.9,\n",
       "       8.1, 8.7, 7.1, 3.4, 5.3, 4.8, 3.2, 8.9, 6.4, 7.8, 7.5, 2.6, 7.2,\n",
       "       9.2, 7. , 7.3, 4.3, 7.6, 5.7, 5. , 9.1, 6.5, 8.8, 6.9, 9.4, 6.8,\n",
       "       6.1, 6.7, 5.4, 4. , 4.9, 4.5, 9.3, 6.2, 4.2, 6. , 3.7, 4.1, 5.8,\n",
       "       5.6, 5.5, 4.4, 4.6, 5.9, 3.9, 3.1, 2.9, 5.2, 3.3, 4.7, 5.1, 3.5,\n",
       "       2.5, 1.9, 3. , 2.7, 2.2, 2. , 9.5, 2.1, 3.6, 2.8, 1.8, 3.8, 0. ,\n",
       "       1.6, 9.6, 2.4, 1.7, 1.1, 0.3, 1.5, 0.7, 1.2, 2.3, 0.5, 1.3, 0.2,\n",
       "       0.6, 1.4, 0.9, 1. , 9.7])"
      ]
     },
     "execution_count": 21,
     "metadata": {},
     "output_type": "execute_result"
    }
   ],
   "source": [
    "gms['user_score'] = pd.to_numeric(gms['user_score'], errors='coerce')\n",
    "gms.user_score.unique()"
   ]
  },
  {
   "cell_type": "code",
   "execution_count": 22,
   "id": "bc5c2f84",
   "metadata": {
    "scrolled": true
   },
   "outputs": [
    {
     "data": {
      "text/plain": [
       "name                object\n",
       "platform            object\n",
       "year_of_release      Int64\n",
       "genre               object\n",
       "na_sales           float64\n",
       "eu_sales           float64\n",
       "jp_sales           float64\n",
       "other_sales        float64\n",
       "critic_score       float64\n",
       "user_score         float64\n",
       "rating              object\n",
       "dtype: object"
      ]
     },
     "execution_count": 22,
     "metadata": {},
     "output_type": "execute_result"
    }
   ],
   "source": [
    "gms.dtypes"
   ]
  },
  {
   "cell_type": "markdown",
   "id": "edf39dfa",
   "metadata": {},
   "source": [
    "Пропуски в столбце с рейтингом заполним значением 'Unknow'"
   ]
  },
  {
   "cell_type": "code",
   "execution_count": 23,
   "id": "ebc760ba",
   "metadata": {},
   "outputs": [
    {
     "data": {
      "text/plain": [
       "array(['E', 'Unknow', 'M', 'T', 'E10+', 'K-A', 'AO', 'EC', 'RP'],\n",
       "      dtype=object)"
      ]
     },
     "execution_count": 23,
     "metadata": {},
     "output_type": "execute_result"
    }
   ],
   "source": [
    "gms['rating'] = gms['rating'].fillna('Unknow')\n",
    "gms.rating.unique()"
   ]
  },
  {
   "cell_type": "markdown",
   "id": "9ddf926e",
   "metadata": {},
   "source": [
    "Что касается пропусков в столбцах critic_score и user_score - их заполнение какими-либо значениями не представляется возможным ввиду отсутствия внятных критериев.  "
   ]
  },
  {
   "cell_type": "markdown",
   "id": "6701f015",
   "metadata": {},
   "source": [
    "#### Подсчёт суммарных продаж во всех регионах"
   ]
  },
  {
   "cell_type": "code",
   "execution_count": 24,
   "id": "cd9e0daa",
   "metadata": {},
   "outputs": [],
   "source": [
    "# функция для подсчёта суммарных продаж по всех регионах\n",
    "\n",
    "def total_sales(gms):\n",
    "    sum = gms.na_sales + gms.eu_sales + gms.jp_sales + gms.other_sales\n",
    "    return sum\n",
    "\n",
    "gms['total_sales'] = gms.apply(total_sales, axis=1)"
   ]
  },
  {
   "cell_type": "code",
   "execution_count": 25,
   "id": "cdbc645e",
   "metadata": {},
   "outputs": [
    {
     "data": {
      "text/html": [
       "<div>\n",
       "<style scoped>\n",
       "    .dataframe tbody tr th:only-of-type {\n",
       "        vertical-align: middle;\n",
       "    }\n",
       "\n",
       "    .dataframe tbody tr th {\n",
       "        vertical-align: top;\n",
       "    }\n",
       "\n",
       "    .dataframe thead th {\n",
       "        text-align: right;\n",
       "    }\n",
       "</style>\n",
       "<table border=\"1\" class=\"dataframe\">\n",
       "  <thead>\n",
       "    <tr style=\"text-align: right;\">\n",
       "      <th></th>\n",
       "      <th>name</th>\n",
       "      <th>platform</th>\n",
       "      <th>year_of_release</th>\n",
       "      <th>genre</th>\n",
       "      <th>na_sales</th>\n",
       "      <th>eu_sales</th>\n",
       "      <th>jp_sales</th>\n",
       "      <th>other_sales</th>\n",
       "      <th>critic_score</th>\n",
       "      <th>user_score</th>\n",
       "      <th>rating</th>\n",
       "      <th>total_sales</th>\n",
       "    </tr>\n",
       "  </thead>\n",
       "  <tbody>\n",
       "    <tr>\n",
       "      <th>0</th>\n",
       "      <td>Wii Sports</td>\n",
       "      <td>Wii</td>\n",
       "      <td>2006</td>\n",
       "      <td>Sports</td>\n",
       "      <td>41.36</td>\n",
       "      <td>28.96</td>\n",
       "      <td>3.77</td>\n",
       "      <td>8.45</td>\n",
       "      <td>76.00</td>\n",
       "      <td>8.00</td>\n",
       "      <td>E</td>\n",
       "      <td>82.54</td>\n",
       "    </tr>\n",
       "    <tr>\n",
       "      <th>1</th>\n",
       "      <td>Super Mario Bros.</td>\n",
       "      <td>NES</td>\n",
       "      <td>1985</td>\n",
       "      <td>Platform</td>\n",
       "      <td>29.08</td>\n",
       "      <td>3.58</td>\n",
       "      <td>6.81</td>\n",
       "      <td>0.77</td>\n",
       "      <td>NaN</td>\n",
       "      <td>NaN</td>\n",
       "      <td>Unknow</td>\n",
       "      <td>40.24</td>\n",
       "    </tr>\n",
       "    <tr>\n",
       "      <th>2</th>\n",
       "      <td>Mario Kart Wii</td>\n",
       "      <td>Wii</td>\n",
       "      <td>2008</td>\n",
       "      <td>Racing</td>\n",
       "      <td>15.68</td>\n",
       "      <td>12.76</td>\n",
       "      <td>3.79</td>\n",
       "      <td>3.29</td>\n",
       "      <td>82.00</td>\n",
       "      <td>8.30</td>\n",
       "      <td>E</td>\n",
       "      <td>35.52</td>\n",
       "    </tr>\n",
       "    <tr>\n",
       "      <th>3</th>\n",
       "      <td>Wii Sports Resort</td>\n",
       "      <td>Wii</td>\n",
       "      <td>2009</td>\n",
       "      <td>Sports</td>\n",
       "      <td>15.61</td>\n",
       "      <td>10.93</td>\n",
       "      <td>3.28</td>\n",
       "      <td>2.95</td>\n",
       "      <td>80.00</td>\n",
       "      <td>8.00</td>\n",
       "      <td>E</td>\n",
       "      <td>32.77</td>\n",
       "    </tr>\n",
       "    <tr>\n",
       "      <th>4</th>\n",
       "      <td>Pokemon Red/Pokemon Blue</td>\n",
       "      <td>GB</td>\n",
       "      <td>1996</td>\n",
       "      <td>Role-Playing</td>\n",
       "      <td>11.27</td>\n",
       "      <td>8.89</td>\n",
       "      <td>10.22</td>\n",
       "      <td>1.00</td>\n",
       "      <td>NaN</td>\n",
       "      <td>NaN</td>\n",
       "      <td>Unknow</td>\n",
       "      <td>31.38</td>\n",
       "    </tr>\n",
       "  </tbody>\n",
       "</table>\n",
       "</div>"
      ],
      "text/plain": [
       "                       name platform  year_of_release         genre  na_sales  \\\n",
       "0                Wii Sports      Wii             2006        Sports     41.36   \n",
       "1         Super Mario Bros.      NES             1985      Platform     29.08   \n",
       "2            Mario Kart Wii      Wii             2008        Racing     15.68   \n",
       "3         Wii Sports Resort      Wii             2009        Sports     15.61   \n",
       "4  Pokemon Red/Pokemon Blue       GB             1996  Role-Playing     11.27   \n",
       "\n",
       "   eu_sales  jp_sales  other_sales  critic_score  user_score  rating  \\\n",
       "0     28.96      3.77         8.45         76.00        8.00       E   \n",
       "1      3.58      6.81         0.77           NaN         NaN  Unknow   \n",
       "2     12.76      3.79         3.29         82.00        8.30       E   \n",
       "3     10.93      3.28         2.95         80.00        8.00       E   \n",
       "4      8.89     10.22         1.00           NaN         NaN  Unknow   \n",
       "\n",
       "   total_sales  \n",
       "0        82.54  \n",
       "1        40.24  \n",
       "2        35.52  \n",
       "3        32.77  \n",
       "4        31.38  "
      ]
     },
     "execution_count": 25,
     "metadata": {},
     "output_type": "execute_result"
    }
   ],
   "source": [
    "gms.head(5)"
   ]
  },
  {
   "cell_type": "markdown",
   "id": "612ec35b",
   "metadata": {},
   "source": [
    "#### Вывод"
   ]
  },
  {
   "cell_type": "markdown",
   "id": "9574d51c",
   "metadata": {},
   "source": [
    "На этапе предобработки данных мы:\n",
    "- привели названия столбцов к единому регистру,\n",
    "- удалили незначительное соличество строк с пропусками, которые нет возможности корректно обработать и которые не повлияют на результаты исследования,\n",
    "- преобразовали тип данных в столбце year_of_release,\n",
    "- заменили аббревиатуру 'tbd' на nan в столбце user_score,\n",
    "- заполнили пропуски в столбце rating значением Unknow,\n",
    "- подсчитали суммарные продажи во всех регионах, выделив данные в столбец total_sales.  \n",
    "\n",
    "Таким образом итоговый датафрейм состоит из 16444 строк и 11 столбцов.\n",
    "\n",
    "Считаем, что большое количество пропусков с столбцах с оценками и рейтингом возникло потому, что эти данные просто отсутствуют - далеко не все критики/пользователи ставят свои оценки, а обязывать их к этому было бы некорректно.  \n",
    "Пропуски в рейтингах могут быть связаны, во-первых, с тем, что в данных есть старые игры, для которых ещё не было требования указывать рейтинг, во-вторых, не во всех странах используется исключительно рейтинг ESRB. Так, в Японии существует сразу две возрастные классификации игр (Computer Entertainment Rating Organization (CERO) и Ethics Organization of Computer Software (EOCS), взято отсюда: https://www.kaspersky.ru/blog/game-ratings/26335/). С другой стороны, возможно рейтинг и был везде проставлен, но из-за ошибок при выгрузке мог местами исчезнуть - необходимо уточнить этот момент у заказчика. В случае, если это действительно лишь техническая ошибка - нужно её исправить."
   ]
  },
  {
   "cell_type": "markdown",
   "id": "7d41006e",
   "metadata": {},
   "source": [
    "## Исследовательский анализ данных"
   ]
  },
  {
   "cell_type": "markdown",
   "id": "9247d53a",
   "metadata": {},
   "source": [
    "### Количество игр, выпущенных в разные годы"
   ]
  },
  {
   "cell_type": "markdown",
   "id": "b7caa72c",
   "metadata": {},
   "source": [
    "Выведем количество игр, выпущенных в разные годы"
   ]
  },
  {
   "cell_type": "code",
   "execution_count": 26,
   "id": "99187fdc",
   "metadata": {
    "scrolled": false
   },
   "outputs": [
    {
     "data": {
      "text/plain": [
       "2008    1427\n",
       "2009    1426\n",
       "2010    1255\n",
       "2007    1197\n",
       "2011    1136\n",
       "2006    1006\n",
       "2005     939\n",
       "2002     829\n",
       "2003     775\n",
       "2004     762\n",
       "2012     653\n",
       "2015     606\n",
       "2014     581\n",
       "2013     544\n",
       "2016     502\n",
       "2001     482\n",
       "1998     379\n",
       "2000     350\n",
       "1999     338\n",
       "1997     289\n",
       "1996     263\n",
       "1995     219\n",
       "1994     121\n",
       "1993      60\n",
       "1981      46\n",
       "1992      43\n",
       "1991      41\n",
       "1982      36\n",
       "1986      21\n",
       "1983      17\n",
       "1989      17\n",
       "1990      16\n",
       "1987      16\n",
       "1988      15\n",
       "1985      14\n",
       "1984      14\n",
       "1980       9\n",
       "Name: year_of_release, dtype: Int64"
      ]
     },
     "execution_count": 26,
     "metadata": {},
     "output_type": "execute_result"
    }
   ],
   "source": [
    "gms.year_of_release.value_counts()"
   ]
  },
  {
   "cell_type": "code",
   "execution_count": 27,
   "id": "6b50eae0",
   "metadata": {},
   "outputs": [
    {
     "data": {
      "image/png": "[encoded data removed]",
      "text/plain": [
       "<Figure size 720x504 with 1 Axes>"
      ]
     },
     "metadata": {
      "needs_background": "light"
     },
     "output_type": "display_data"
    }
   ],
   "source": [
    "gms.pivot_table(index='year_of_release', values='name', aggfunc='count') \\\n",
    "    .plot(grid=True, figsize=(10, 7));\n",
    "plt.title('Количество игр по годам')\n",
    "plt.xlabel('годы релиза')\n",
    "plt.ylabel('количество игр')\n",
    "plt.show()"
   ]
  },
  {
   "cell_type": "markdown",
   "id": "da7867b2",
   "metadata": {},
   "source": [
    "Как мы видим, данные за период до 1994 года нет смысла брать, поскольку в тот период игр выпускалось очень мало. Поэтому можно рассматривать только игры в разрезе периода с 1994 по 2016 гг."
   ]
  },
  {
   "cell_type": "code",
   "execution_count": 28,
   "id": "34663c4a",
   "metadata": {},
   "outputs": [
    {
     "data": {
      "text/plain": [
       "2008    1427\n",
       "2009    1426\n",
       "2010    1255\n",
       "2007    1197\n",
       "2011    1136\n",
       "2006    1006\n",
       "2005     939\n",
       "2002     829\n",
       "2003     775\n",
       "2004     762\n",
       "2012     653\n",
       "2015     606\n",
       "2014     581\n",
       "2013     544\n",
       "2016     502\n",
       "2001     482\n",
       "1998     379\n",
       "2000     350\n",
       "1999     338\n",
       "1997     289\n",
       "1996     263\n",
       "1995     219\n",
       "1994     121\n",
       "Name: year_of_release, dtype: Int64"
      ]
     },
     "metadata": {},
     "output_type": "display_data"
    },
    {
     "data": {
      "image/png": "[encoded data removed]",
      "text/plain": [
       "<Figure size 720x504 with 1 Axes>"
      ]
     },
     "metadata": {
      "needs_background": "light"
     },
     "output_type": "display_data"
    }
   ],
   "source": [
    "gms_per_years = gms.loc[gms['year_of_release'] > 1993]\n",
    "display(gms_per_years.year_of_release.value_counts())\n",
    "\n",
    "gms_per_years.pivot_table(index='year_of_release', values='name', aggfunc='count') \\\n",
    "    .plot(grid=True, figsize=(10, 7));\n",
    "plt.title('Количество игр, выпущенных за период с 1994 по 2016 гг.')\n",
    "plt.xlabel('годы релиза')\n",
    "plt.ylabel('количество игр')\n",
    "plt.show()"
   ]
  },
  {
   "cell_type": "markdown",
   "id": "65cc9a61",
   "metadata": {},
   "source": [
    "Как видим, самое большое количество игр было выпущено в 2008-2009 годах - 1427 и 1426 штук соответственно. При этом до 2008 года наблюдался активный рост в количестве выпускаемых игр. Однако после 2009 года, напротив, количество выпускаемых игр стало снижаться (с 1426 штук до 502).  \n",
    "Таким образом, за период с 2009 по 2016 гг. количество выпускаемых игр снизилось в 1,5 раза."
   ]
  },
  {
   "cell_type": "markdown",
   "id": "546b0f0e",
   "metadata": {},
   "source": [
    "### Анализ продаж по платформам"
   ]
  },
  {
   "cell_type": "markdown",
   "id": "e82d776f",
   "metadata": {},
   "source": [
    "Посмотрим на распределение количества игр по всем платформам"
   ]
  },
  {
   "cell_type": "code",
   "execution_count": 29,
   "id": "0e3328f4",
   "metadata": {},
   "outputs": [
    {
     "data": {
      "image/png": "[encoded data removed]",
      "text/plain": [
       "<Figure size 864x720 with 1 Axes>"
      ]
     },
     "metadata": {
      "needs_background": "light"
     },
     "output_type": "display_data"
    }
   ],
   "source": [
    "gms_platf_group = gms.pivot_table(index='platform', values='total_sales', aggfunc='sum')\\\n",
    "                    .sort_values(by='total_sales', ascending=False)\n",
    "\n",
    "gms_platf_group.plot(kind='bar', grid=True, figsize=(12, 10))\n",
    "\n",
    "plt.title('Распределение продаж по платформам', fontsize=15)\n",
    "plt.ylabel('суммарные продажи', fontsize=12)\n",
    "plt.xlabel('платформы', fontsize=12)\n",
    "plt.show()"
   ]
  },
  {
   "cell_type": "markdown",
   "id": "f8808627",
   "metadata": {},
   "source": [
    "Как видно из гистограммы, есть шесть лидирующих по продажам платформ: PS2, X360, PS3, Wii, DS, PS.  \n",
    "Сделаем срез по ним."
   ]
  },
  {
   "cell_type": "code",
   "execution_count": 30,
   "id": "d13bbca1",
   "metadata": {},
   "outputs": [
    {
     "name": "stdout",
     "output_type": "stream",
     "text": [
      "Топ-6 популярных платформ\n"
     ]
    },
    {
     "data": {
      "text/html": [
       "<div>\n",
       "<style scoped>\n",
       "    .dataframe tbody tr th:only-of-type {\n",
       "        vertical-align: middle;\n",
       "    }\n",
       "\n",
       "    .dataframe tbody tr th {\n",
       "        vertical-align: top;\n",
       "    }\n",
       "\n",
       "    .dataframe thead th {\n",
       "        text-align: right;\n",
       "    }\n",
       "</style>\n",
       "<table border=\"1\" class=\"dataframe\">\n",
       "  <thead>\n",
       "    <tr style=\"text-align: right;\">\n",
       "      <th></th>\n",
       "      <th>total_sales</th>\n",
       "    </tr>\n",
       "    <tr>\n",
       "      <th>platform</th>\n",
       "      <th></th>\n",
       "    </tr>\n",
       "  </thead>\n",
       "  <tbody>\n",
       "    <tr>\n",
       "      <th>PS2</th>\n",
       "      <td>1233.56</td>\n",
       "    </tr>\n",
       "    <tr>\n",
       "      <th>X360</th>\n",
       "      <td>961.24</td>\n",
       "    </tr>\n",
       "    <tr>\n",
       "      <th>PS3</th>\n",
       "      <td>931.34</td>\n",
       "    </tr>\n",
       "    <tr>\n",
       "      <th>Wii</th>\n",
       "      <td>891.18</td>\n",
       "    </tr>\n",
       "    <tr>\n",
       "      <th>DS</th>\n",
       "      <td>802.78</td>\n",
       "    </tr>\n",
       "    <tr>\n",
       "      <th>PS</th>\n",
       "      <td>727.58</td>\n",
       "    </tr>\n",
       "  </tbody>\n",
       "</table>\n",
       "</div>"
      ],
      "text/plain": [
       "          total_sales\n",
       "platform             \n",
       "PS2           1233.56\n",
       "X360           961.24\n",
       "PS3            931.34\n",
       "Wii            891.18\n",
       "DS             802.78\n",
       "PS             727.58"
      ]
     },
     "execution_count": 30,
     "metadata": {},
     "output_type": "execute_result"
    }
   ],
   "source": [
    "print('Топ-6 популярных платформ')\n",
    "gms_platf_group.query('total_sales > 400')"
   ]
  },
  {
   "cell_type": "markdown",
   "id": "015ac65a",
   "metadata": {},
   "source": [
    "По этому Топ-6 построим распределение по годам"
   ]
  },
  {
   "cell_type": "code",
   "execution_count": 31,
   "id": "db929640",
   "metadata": {
    "scrolled": false
   },
   "outputs": [
    {
     "data": {
      "image/png": "[encoded data removed]",
      "text/plain": [
       "<Figure size 1080x720 with 1 Axes>"
      ]
     },
     "metadata": {
      "needs_background": "light"
     },
     "output_type": "display_data"
    }
   ],
   "source": [
    "gms.query('platform == (\"PS2\", \"X360\", \"PS3\", \"Wii\", \"DS\", \"PS\")')\\\n",
    "    .pivot_table(index='year_of_release', columns='platform', values='total_sales', aggfunc='sum')\\\n",
    "    .plot(grid=True, figsize=(15, 10), legend=True, label=True);\n",
    "plt.title('Распределение лидирующих платформ по годам', fontsize=17)\n",
    "plt.ylabel('суммарные продажи', fontsize=12)\n",
    "plt.xlabel('год релиза', fontsize=12)\n",
    "plt.xlim(1993, 2017)\n",
    "plt.ylim(0, 220)\n",
    "plt.legend(fontsize=15)\n",
    "plt.show()"
   ]
  },
  {
   "cell_type": "markdown",
   "id": "0016b8fe",
   "metadata": {},
   "source": [
    "Средний срок \"жизни\" платформы - около 10 лет. За это время она появляется, стремительно растёт, достигает пика продаж, а потом исчезает.\n",
    "\n",
    "Как видно из графика, в период с 2004 по 2010 появилось самое большое количество новых платформ - DS, PS3, Wii и X360.  \n",
    "При этом лидирующая платформа PS2 \"прожила\" лишь до 2011 года. Вероятно это связано с ростом популярности её преемника PS3 и прямого конкурента - X360.  \n",
    "\n",
    "Таким образом распределение по годам показывает, что, лидер по количеству продаж должен определяться лишь в контексте определённого периода.  \n",
    "Значит, для целей исследования нам необходимо определить соответствующий актуальный для нас период."
   ]
  },
  {
   "cell_type": "markdown",
   "id": "0df8c274",
   "metadata": {},
   "source": [
    "### Актуальный период"
   ]
  },
  {
   "cell_type": "markdown",
   "id": "e55a9a00",
   "metadata": {},
   "source": [
    "Взглянем ещё раз на динамику суммарных продаж по годам"
   ]
  },
  {
   "cell_type": "code",
   "execution_count": 32,
   "id": "24ed8e04",
   "metadata": {},
   "outputs": [
    {
     "data": {
      "image/png": "[encoded data removed]",
      "text/plain": [
       "<Figure size 864x360 with 1 Axes>"
      ]
     },
     "metadata": {
      "needs_background": "light"
     },
     "output_type": "display_data"
    }
   ],
   "source": [
    "gms.pivot_table(index='year_of_release', values='total_sales', aggfunc='sum') \\\n",
    "    .plot(grid=True, figsize=(12, 5));\n",
    "plt.title('Динамика суммарных продаж по годам')\n",
    "plt.xlabel('год релиза')\n",
    "plt.ylabel('суммарные продажи')\n",
    "plt.show()"
   ]
  },
  {
   "cell_type": "markdown",
   "id": "423f8f1f",
   "metadata": {},
   "source": [
    "На графике видно, что в период примерно с 2013 по 2016 годы наблюдается резкий спад во всех продажах. Предлагаем этот период взять за актуальный для целей исследования. Тем более игровая индустрия - достаточно динамичная область, поэтому период в 3 последних года - оптимальный с этой точки зрения.  \n",
    "Исходя из этого, сделаем срез за последние 4 года и сохраним эти данные в отдельный датафрейм."
   ]
  },
  {
   "cell_type": "code",
   "execution_count": 33,
   "id": "f248d2e1",
   "metadata": {},
   "outputs": [
    {
     "data": {
      "text/html": [
       "<div>\n",
       "<style scoped>\n",
       "    .dataframe tbody tr th:only-of-type {\n",
       "        vertical-align: middle;\n",
       "    }\n",
       "\n",
       "    .dataframe tbody tr th {\n",
       "        vertical-align: top;\n",
       "    }\n",
       "\n",
       "    .dataframe thead th {\n",
       "        text-align: right;\n",
       "    }\n",
       "</style>\n",
       "<table border=\"1\" class=\"dataframe\">\n",
       "  <thead>\n",
       "    <tr style=\"text-align: right;\">\n",
       "      <th></th>\n",
       "      <th>15363</th>\n",
       "      <th>14195</th>\n",
       "      <th>6844</th>\n",
       "      <th>7636</th>\n",
       "      <th>12689</th>\n",
       "    </tr>\n",
       "  </thead>\n",
       "  <tbody>\n",
       "    <tr>\n",
       "      <th>name</th>\n",
       "      <td>Kamen Rider: Battride War II</td>\n",
       "      <td>Hajime no Ippo: The Fighting! (2014)</td>\n",
       "      <td>Dragon Quest Heroes II: Twin Kings and the Pro...</td>\n",
       "      <td>Great Phoenix Wright: Ace Attorney - Naruhodou...</td>\n",
       "      <td>Hearts of Iron IV</td>\n",
       "    </tr>\n",
       "    <tr>\n",
       "      <th>platform</th>\n",
       "      <td>WiiU</td>\n",
       "      <td>PS3</td>\n",
       "      <td>PSV</td>\n",
       "      <td>3DS</td>\n",
       "      <td>PC</td>\n",
       "    </tr>\n",
       "    <tr>\n",
       "      <th>year_of_release</th>\n",
       "      <td>2014</td>\n",
       "      <td>2014</td>\n",
       "      <td>2016</td>\n",
       "      <td>2015</td>\n",
       "      <td>2016</td>\n",
       "    </tr>\n",
       "    <tr>\n",
       "      <th>genre</th>\n",
       "      <td>Action</td>\n",
       "      <td>Sports</td>\n",
       "      <td>Action</td>\n",
       "      <td>Action</td>\n",
       "      <td>Strategy</td>\n",
       "    </tr>\n",
       "    <tr>\n",
       "      <th>na_sales</th>\n",
       "      <td>0.00</td>\n",
       "      <td>0.00</td>\n",
       "      <td>0.00</td>\n",
       "      <td>0.00</td>\n",
       "      <td>0.00</td>\n",
       "    </tr>\n",
       "    <tr>\n",
       "      <th>eu_sales</th>\n",
       "      <td>0.00</td>\n",
       "      <td>0.00</td>\n",
       "      <td>0.00</td>\n",
       "      <td>0.00</td>\n",
       "      <td>0.05</td>\n",
       "    </tr>\n",
       "    <tr>\n",
       "      <th>jp_sales</th>\n",
       "      <td>0.02</td>\n",
       "      <td>0.03</td>\n",
       "      <td>0.23</td>\n",
       "      <td>0.19</td>\n",
       "      <td>0.00</td>\n",
       "    </tr>\n",
       "    <tr>\n",
       "      <th>other_sales</th>\n",
       "      <td>0.00</td>\n",
       "      <td>0.00</td>\n",
       "      <td>0.00</td>\n",
       "      <td>0.00</td>\n",
       "      <td>0.00</td>\n",
       "    </tr>\n",
       "    <tr>\n",
       "      <th>critic_score</th>\n",
       "      <td>NaN</td>\n",
       "      <td>NaN</td>\n",
       "      <td>NaN</td>\n",
       "      <td>NaN</td>\n",
       "      <td>83.00</td>\n",
       "    </tr>\n",
       "    <tr>\n",
       "      <th>user_score</th>\n",
       "      <td>NaN</td>\n",
       "      <td>NaN</td>\n",
       "      <td>NaN</td>\n",
       "      <td>NaN</td>\n",
       "      <td>6.90</td>\n",
       "    </tr>\n",
       "    <tr>\n",
       "      <th>rating</th>\n",
       "      <td>Unknow</td>\n",
       "      <td>Unknow</td>\n",
       "      <td>Unknow</td>\n",
       "      <td>Unknow</td>\n",
       "      <td>Unknow</td>\n",
       "    </tr>\n",
       "    <tr>\n",
       "      <th>total_sales</th>\n",
       "      <td>0.02</td>\n",
       "      <td>0.03</td>\n",
       "      <td>0.23</td>\n",
       "      <td>0.19</td>\n",
       "      <td>0.05</td>\n",
       "    </tr>\n",
       "  </tbody>\n",
       "</table>\n",
       "</div>"
      ],
      "text/plain": [
       "                                        15363  \\\n",
       "name             Kamen Rider: Battride War II   \n",
       "platform                                 WiiU   \n",
       "year_of_release                          2014   \n",
       "genre                                  Action   \n",
       "na_sales                                 0.00   \n",
       "eu_sales                                 0.00   \n",
       "jp_sales                                 0.02   \n",
       "other_sales                              0.00   \n",
       "critic_score                              NaN   \n",
       "user_score                                NaN   \n",
       "rating                                 Unknow   \n",
       "total_sales                              0.02   \n",
       "\n",
       "                                                14195  \\\n",
       "name             Hajime no Ippo: The Fighting! (2014)   \n",
       "platform                                          PS3   \n",
       "year_of_release                                  2014   \n",
       "genre                                          Sports   \n",
       "na_sales                                         0.00   \n",
       "eu_sales                                         0.00   \n",
       "jp_sales                                         0.03   \n",
       "other_sales                                      0.00   \n",
       "critic_score                                      NaN   \n",
       "user_score                                        NaN   \n",
       "rating                                         Unknow   \n",
       "total_sales                                      0.03   \n",
       "\n",
       "                                                             6844   \\\n",
       "name             Dragon Quest Heroes II: Twin Kings and the Pro...   \n",
       "platform                                                       PSV   \n",
       "year_of_release                                               2016   \n",
       "genre                                                       Action   \n",
       "na_sales                                                      0.00   \n",
       "eu_sales                                                      0.00   \n",
       "jp_sales                                                      0.23   \n",
       "other_sales                                                   0.00   \n",
       "critic_score                                                   NaN   \n",
       "user_score                                                     NaN   \n",
       "rating                                                      Unknow   \n",
       "total_sales                                                   0.23   \n",
       "\n",
       "                                                             7636   \\\n",
       "name             Great Phoenix Wright: Ace Attorney - Naruhodou...   \n",
       "platform                                                       3DS   \n",
       "year_of_release                                               2015   \n",
       "genre                                                       Action   \n",
       "na_sales                                                      0.00   \n",
       "eu_sales                                                      0.00   \n",
       "jp_sales                                                      0.19   \n",
       "other_sales                                                   0.00   \n",
       "critic_score                                                   NaN   \n",
       "user_score                                                     NaN   \n",
       "rating                                                      Unknow   \n",
       "total_sales                                                   0.19   \n",
       "\n",
       "                             12689  \n",
       "name             Hearts of Iron IV  \n",
       "platform                        PC  \n",
       "year_of_release               2016  \n",
       "genre                     Strategy  \n",
       "na_sales                      0.00  \n",
       "eu_sales                      0.05  \n",
       "jp_sales                      0.00  \n",
       "other_sales                   0.00  \n",
       "critic_score                 83.00  \n",
       "user_score                    6.90  \n",
       "rating                      Unknow  \n",
       "total_sales                   0.05  "
      ]
     },
     "execution_count": 33,
     "metadata": {},
     "output_type": "execute_result"
    }
   ],
   "source": [
    "gms_last = gms.loc[gms['year_of_release'] >= 2013]\n",
    "gms_last.sample(5).T"
   ]
  },
  {
   "cell_type": "markdown",
   "id": "ae6f8f15",
   "metadata": {},
   "source": [
    "### Лидирующие платформы"
   ]
  },
  {
   "cell_type": "markdown",
   "id": "e2fc8c81",
   "metadata": {},
   "source": [
    "Посмотрим, какие платформы лидировали по продажам в период с 2013 по 2016 годы"
   ]
  },
  {
   "cell_type": "code",
   "execution_count": 34,
   "id": "412b40a5",
   "metadata": {},
   "outputs": [
    {
     "data": {
      "image/png": "[encoded data removed]",
      "text/plain": [
       "<Figure size 720x360 with 1 Axes>"
      ]
     },
     "metadata": {
      "needs_background": "light"
     },
     "output_type": "display_data"
    }
   ],
   "source": [
    "gms_last.pivot_table(index='platform', values='total_sales', aggfunc='sum')\\\n",
    "        .sort_values(by='total_sales', ascending=False)\\\n",
    "        .plot(kind='bar', grid=True, legend=True, label=True, figsize=(10, 5));\n",
    "plt.xlabel('платформы')\n",
    "plt.ylabel('суммарные продажи')\n",
    "plt.title('Лидирующие платформы за 2013-2016 гг.', fontsize=15)\n",
    "plt.show()"
   ]
  },
  {
   "cell_type": "markdown",
   "id": "22920efd",
   "metadata": {},
   "source": [
    "В период с 2013 по 2016 гг. самой продаваемой платформой была PS4, на втором месте - PS3, её продажи почти в два раза меньше продаж лидера, далее с небольшим отставанием - XOne, 3DS, X360.  \n",
    "Теперь посмотрим на динамику продаж по платформам за актуальный период:"
   ]
  },
  {
   "cell_type": "code",
   "execution_count": 35,
   "id": "d8b23fdb",
   "metadata": {},
   "outputs": [
    {
     "data": {
      "image/png": "[encoded data removed]",
      "text/plain": [
       "<Figure size 1080x720 with 1 Axes>"
      ]
     },
     "metadata": {
      "needs_background": "light"
     },
     "output_type": "display_data"
    }
   ],
   "source": [
    "gms_last\\\n",
    "    .pivot_table(index='year_of_release', columns='platform', values='total_sales', aggfunc='sum')\\\n",
    "    .plot(grid=True, figsize=(15, 10), legend=True, label=True);\n",
    "plt.title('Распределение динамики продаж по платформам за актуальный период', fontsize=17)\n",
    "plt.ylabel('суммарные продажи', fontsize=20)\n",
    "plt.xlabel('год релиза', fontsize=12)\n",
    "plt.xlim(2013, 2016)\n",
    "plt.ylim(0, 140)\n",
    "plt.legend(fontsize=15)\n",
    "plt.show()"
   ]
  },
  {
   "cell_type": "markdown",
   "id": "a3b60f61",
   "metadata": {},
   "source": [
    "В период с 2013-2016 гг. все платформы стали терять продажи. Но среди них есть те, чьи графики стремительно идут вниз весь актуальный период (PS3, X360), а есть те, у которых график \"стабильно волнообразный\" и в 2016 году показывает высокие продажи по сравнению с остальными - это PS4, XOne и 3DS. Причём снижение популярности PS3 относительно PS4 и X360 относительно XOne объясняется тем, что PS4 и XOne - новые модели PS3 и X360 соответственно.  \n",
    "Остальные платформы имеют стабильно низкие продажи, поэтому их в число популярных брать не будем.\n",
    "\n",
    "Выделим тройку стабильно-популярных платформ в отдельную переменную gms_last_leaders."
   ]
  },
  {
   "cell_type": "code",
   "execution_count": 36,
   "id": "6853fa74",
   "metadata": {},
   "outputs": [],
   "source": [
    "gms_last_leaders = gms_last.query('platform in (\"PS4\", \"XOne\", \"3DS\")')"
   ]
  },
  {
   "cell_type": "code",
   "execution_count": 37,
   "id": "09dd2a8c",
   "metadata": {},
   "outputs": [
    {
     "name": "stdout",
     "output_type": "stream",
     "text": [
      "Тройка популярных в 2013-2016 гг. платформ\n"
     ]
    },
    {
     "data": {
      "text/html": [
       "<div>\n",
       "<style scoped>\n",
       "    .dataframe tbody tr th:only-of-type {\n",
       "        vertical-align: middle;\n",
       "    }\n",
       "\n",
       "    .dataframe tbody tr th {\n",
       "        vertical-align: top;\n",
       "    }\n",
       "\n",
       "    .dataframe thead th {\n",
       "        text-align: right;\n",
       "    }\n",
       "</style>\n",
       "<table border=\"1\" class=\"dataframe\">\n",
       "  <thead>\n",
       "    <tr style=\"text-align: right;\">\n",
       "      <th></th>\n",
       "      <th>total_sales</th>\n",
       "    </tr>\n",
       "    <tr>\n",
       "      <th>platform</th>\n",
       "      <th></th>\n",
       "    </tr>\n",
       "  </thead>\n",
       "  <tbody>\n",
       "    <tr>\n",
       "      <th>PS4</th>\n",
       "      <td>314.14</td>\n",
       "    </tr>\n",
       "    <tr>\n",
       "      <th>XOne</th>\n",
       "      <td>159.32</td>\n",
       "    </tr>\n",
       "    <tr>\n",
       "      <th>3DS</th>\n",
       "      <td>143.25</td>\n",
       "    </tr>\n",
       "  </tbody>\n",
       "</table>\n",
       "</div>"
      ],
      "text/plain": [
       "          total_sales\n",
       "platform             \n",
       "PS4            314.14\n",
       "XOne           159.32\n",
       "3DS            143.25"
      ]
     },
     "execution_count": 37,
     "metadata": {},
     "output_type": "execute_result"
    }
   ],
   "source": [
    "print('Тройка популярных в 2013-2016 гг. платформ')\n",
    "gms_last_leaders.pivot_table(index='platform', values='total_sales', aggfunc='sum')\\\n",
    "        .sort_values(by='total_sales', ascending=False)"
   ]
  },
  {
   "cell_type": "markdown",
   "id": "ff9fd5eb",
   "metadata": {},
   "source": [
    "### Диаграмма размаха (\"ящик с усами\")"
   ]
  },
  {
   "cell_type": "code",
   "execution_count": 38,
   "id": "f0cc9358",
   "metadata": {
    "scrolled": true
   },
   "outputs": [
    {
     "data": {
      "image/png": "[encoded data removed]",
      "text/plain": [
       "<Figure size 504x360 with 1 Axes>"
      ]
     },
     "metadata": {
      "needs_background": "light"
     },
     "output_type": "display_data"
    }
   ],
   "source": [
    "plt.figure(figsize=(7, 5))\n",
    "sns.boxplot(data=gms_last_leaders, x='platform', y='total_sales', showfliers=False);\n",
    "plt.title('Диаграмма размаха лидирующих по продажам платформ', fontsize=15)\n",
    "plt.xlabel('платформы', fontsize=12)\n",
    "plt.ylabel('продажи', fontsize=12)\n",
    "plt.show()"
   ]
  },
  {
   "cell_type": "markdown",
   "id": "3563d049",
   "metadata": {},
   "source": [
    "Как видно на диаграммах размаха медиана у всех сильно смещена, а верхний \"ус\" у всех платформ намного длинее нижнего. Это говорит о том, что разброс продаж в большую сторону выше. Можно предположить, что на это влияют популярные игры, которые в больших количествах покупают на всех платформах, что и даёт такой разброс в продажах и смещают медиану."
   ]
  },
  {
   "cell_type": "markdown",
   "id": "53724613",
   "metadata": {},
   "source": [
    "Дополнительно посмотрим на график выборосов в этих платформах:"
   ]
  },
  {
   "cell_type": "code",
   "execution_count": 39,
   "id": "6b39bd01",
   "metadata": {},
   "outputs": [
    {
     "data": {
      "image/png": "[encoded data removed]",
      "text/plain": [
       "<Figure size 504x360 with 1 Axes>"
      ]
     },
     "metadata": {
      "needs_background": "light"
     },
     "output_type": "display_data"
    }
   ],
   "source": [
    "plt.figure(figsize=(7, 5))\n",
    "sns.boxplot(data=gms_last_leaders, x='platform', y='total_sales', showfliers=True);\n",
    "plt.title('Диаграмма размаха с выбросами', fontsize=15)\n",
    "plt.xlabel('платформы', fontsize=12)\n",
    "plt.ylabel('продажи', fontsize=12)\n",
    "plt.show()"
   ]
  },
  {
   "cell_type": "markdown",
   "id": "6fc93834",
   "metadata": {},
   "source": [
    "У PS4 и 3DS длинный хвост выбросов - на этих платформах скорее всего есть ряд самых популярных игр, которые и вытягивают графики выбросов вверх. В половину менее растянута полоса выбросов у XOne, хотя и там встречаются популярные игры, отятгивающие продажи."
   ]
  },
  {
   "cell_type": "markdown",
   "id": "cf334f36",
   "metadata": {},
   "source": [
    "Выведем список игр-лидеров в этих платформах:"
   ]
  },
  {
   "cell_type": "code",
   "execution_count": 40,
   "id": "58bad054",
   "metadata": {},
   "outputs": [],
   "source": [
    "# функция для вывода игр-лидеров по каждой платформе:\n",
    "\n",
    "def lead(game, name):\n",
    "    game_lead = game.pivot_table(index='name', values='total_sales', aggfunc='sum')\\\n",
    "    .sort_values(by='total_sales', ascending=False)\n",
    "    print('Платформа', name)\n",
    "    print('   ', 'Общее количество продаж:', round(game.total_sales.sum(), 2))\n",
    "    print('   ', 'Игры-лидеры продаж:')\n",
    "    display(game_lead.head(5))\n",
    "    print('Доля в продажах игры-лидера')\n",
    "    display((game_lead.head(1)) / (game.total_sales.sum()))"
   ]
  },
  {
   "cell_type": "code",
   "execution_count": 41,
   "id": "b0ff7c5f",
   "metadata": {},
   "outputs": [
    {
     "name": "stdout",
     "output_type": "stream",
     "text": [
      "Платформа PS4\n",
      "    Общее количество продаж: 314.14\n",
      "    Игры-лидеры продаж:\n"
     ]
    },
    {
     "data": {
      "text/html": [
       "<div>\n",
       "<style scoped>\n",
       "    .dataframe tbody tr th:only-of-type {\n",
       "        vertical-align: middle;\n",
       "    }\n",
       "\n",
       "    .dataframe tbody tr th {\n",
       "        vertical-align: top;\n",
       "    }\n",
       "\n",
       "    .dataframe thead th {\n",
       "        text-align: right;\n",
       "    }\n",
       "</style>\n",
       "<table border=\"1\" class=\"dataframe\">\n",
       "  <thead>\n",
       "    <tr style=\"text-align: right;\">\n",
       "      <th></th>\n",
       "      <th>total_sales</th>\n",
       "    </tr>\n",
       "    <tr>\n",
       "      <th>name</th>\n",
       "      <th></th>\n",
       "    </tr>\n",
       "  </thead>\n",
       "  <tbody>\n",
       "    <tr>\n",
       "      <th>Call of Duty: Black Ops 3</th>\n",
       "      <td>14.63</td>\n",
       "    </tr>\n",
       "    <tr>\n",
       "      <th>Grand Theft Auto V</th>\n",
       "      <td>12.62</td>\n",
       "    </tr>\n",
       "    <tr>\n",
       "      <th>FIFA 16</th>\n",
       "      <td>8.58</td>\n",
       "    </tr>\n",
       "    <tr>\n",
       "      <th>Star Wars Battlefront (2015)</th>\n",
       "      <td>7.98</td>\n",
       "    </tr>\n",
       "    <tr>\n",
       "      <th>Call of Duty: Advanced Warfare</th>\n",
       "      <td>7.66</td>\n",
       "    </tr>\n",
       "  </tbody>\n",
       "</table>\n",
       "</div>"
      ],
      "text/plain": [
       "                                total_sales\n",
       "name                                       \n",
       "Call of Duty: Black Ops 3             14.63\n",
       "Grand Theft Auto V                    12.62\n",
       "FIFA 16                                8.58\n",
       "Star Wars Battlefront (2015)           7.98\n",
       "Call of Duty: Advanced Warfare         7.66"
      ]
     },
     "metadata": {},
     "output_type": "display_data"
    },
    {
     "name": "stdout",
     "output_type": "stream",
     "text": [
      "Доля в продажах игры-лидера\n"
     ]
    },
    {
     "data": {
      "text/html": [
       "<div>\n",
       "<style scoped>\n",
       "    .dataframe tbody tr th:only-of-type {\n",
       "        vertical-align: middle;\n",
       "    }\n",
       "\n",
       "    .dataframe tbody tr th {\n",
       "        vertical-align: top;\n",
       "    }\n",
       "\n",
       "    .dataframe thead th {\n",
       "        text-align: right;\n",
       "    }\n",
       "</style>\n",
       "<table border=\"1\" class=\"dataframe\">\n",
       "  <thead>\n",
       "    <tr style=\"text-align: right;\">\n",
       "      <th></th>\n",
       "      <th>total_sales</th>\n",
       "    </tr>\n",
       "    <tr>\n",
       "      <th>name</th>\n",
       "      <th></th>\n",
       "    </tr>\n",
       "  </thead>\n",
       "  <tbody>\n",
       "    <tr>\n",
       "      <th>Call of Duty: Black Ops 3</th>\n",
       "      <td>0.05</td>\n",
       "    </tr>\n",
       "  </tbody>\n",
       "</table>\n",
       "</div>"
      ],
      "text/plain": [
       "                           total_sales\n",
       "name                                  \n",
       "Call of Duty: Black Ops 3         0.05"
      ]
     },
     "metadata": {},
     "output_type": "display_data"
    }
   ],
   "source": [
    "lead(gms_last.loc[gms_last['platform'] == 'PS4'], 'PS4')"
   ]
  },
  {
   "cell_type": "code",
   "execution_count": 42,
   "id": "f0e452f0",
   "metadata": {},
   "outputs": [
    {
     "name": "stdout",
     "output_type": "stream",
     "text": [
      "Платформа XOne\n",
      "    Общее количество продаж: 159.32\n",
      "    Игры-лидеры продаж:\n"
     ]
    },
    {
     "data": {
      "text/html": [
       "<div>\n",
       "<style scoped>\n",
       "    .dataframe tbody tr th:only-of-type {\n",
       "        vertical-align: middle;\n",
       "    }\n",
       "\n",
       "    .dataframe tbody tr th {\n",
       "        vertical-align: top;\n",
       "    }\n",
       "\n",
       "    .dataframe thead th {\n",
       "        text-align: right;\n",
       "    }\n",
       "</style>\n",
       "<table border=\"1\" class=\"dataframe\">\n",
       "  <thead>\n",
       "    <tr style=\"text-align: right;\">\n",
       "      <th></th>\n",
       "      <th>total_sales</th>\n",
       "    </tr>\n",
       "    <tr>\n",
       "      <th>name</th>\n",
       "      <th></th>\n",
       "    </tr>\n",
       "  </thead>\n",
       "  <tbody>\n",
       "    <tr>\n",
       "      <th>Call of Duty: Black Ops 3</th>\n",
       "      <td>7.39</td>\n",
       "    </tr>\n",
       "    <tr>\n",
       "      <th>Grand Theft Auto V</th>\n",
       "      <td>5.47</td>\n",
       "    </tr>\n",
       "    <tr>\n",
       "      <th>Call of Duty: Advanced Warfare</th>\n",
       "      <td>5.26</td>\n",
       "    </tr>\n",
       "    <tr>\n",
       "      <th>Halo 5: Guardians</th>\n",
       "      <td>4.49</td>\n",
       "    </tr>\n",
       "    <tr>\n",
       "      <th>Fallout 4</th>\n",
       "      <td>4.22</td>\n",
       "    </tr>\n",
       "  </tbody>\n",
       "</table>\n",
       "</div>"
      ],
      "text/plain": [
       "                                total_sales\n",
       "name                                       \n",
       "Call of Duty: Black Ops 3              7.39\n",
       "Grand Theft Auto V                     5.47\n",
       "Call of Duty: Advanced Warfare         5.26\n",
       "Halo 5: Guardians                      4.49\n",
       "Fallout 4                              4.22"
      ]
     },
     "metadata": {},
     "output_type": "display_data"
    },
    {
     "name": "stdout",
     "output_type": "stream",
     "text": [
      "Доля в продажах игры-лидера\n"
     ]
    },
    {
     "data": {
      "text/html": [
       "<div>\n",
       "<style scoped>\n",
       "    .dataframe tbody tr th:only-of-type {\n",
       "        vertical-align: middle;\n",
       "    }\n",
       "\n",
       "    .dataframe tbody tr th {\n",
       "        vertical-align: top;\n",
       "    }\n",
       "\n",
       "    .dataframe thead th {\n",
       "        text-align: right;\n",
       "    }\n",
       "</style>\n",
       "<table border=\"1\" class=\"dataframe\">\n",
       "  <thead>\n",
       "    <tr style=\"text-align: right;\">\n",
       "      <th></th>\n",
       "      <th>total_sales</th>\n",
       "    </tr>\n",
       "    <tr>\n",
       "      <th>name</th>\n",
       "      <th></th>\n",
       "    </tr>\n",
       "  </thead>\n",
       "  <tbody>\n",
       "    <tr>\n",
       "      <th>Call of Duty: Black Ops 3</th>\n",
       "      <td>0.05</td>\n",
       "    </tr>\n",
       "  </tbody>\n",
       "</table>\n",
       "</div>"
      ],
      "text/plain": [
       "                           total_sales\n",
       "name                                  \n",
       "Call of Duty: Black Ops 3         0.05"
      ]
     },
     "metadata": {},
     "output_type": "display_data"
    }
   ],
   "source": [
    "lead(gms_last.loc[gms_last['platform'] == 'XOne'], 'XOne')"
   ]
  },
  {
   "cell_type": "code",
   "execution_count": 43,
   "id": "81adf38c",
   "metadata": {},
   "outputs": [
    {
     "name": "stdout",
     "output_type": "stream",
     "text": [
      "Платформа 3DS\n",
      "    Общее количество продаж: 143.25\n",
      "    Игры-лидеры продаж:\n"
     ]
    },
    {
     "data": {
      "text/html": [
       "<div>\n",
       "<style scoped>\n",
       "    .dataframe tbody tr th:only-of-type {\n",
       "        vertical-align: middle;\n",
       "    }\n",
       "\n",
       "    .dataframe tbody tr th {\n",
       "        vertical-align: top;\n",
       "    }\n",
       "\n",
       "    .dataframe thead th {\n",
       "        text-align: right;\n",
       "    }\n",
       "</style>\n",
       "<table border=\"1\" class=\"dataframe\">\n",
       "  <thead>\n",
       "    <tr style=\"text-align: right;\">\n",
       "      <th></th>\n",
       "      <th>total_sales</th>\n",
       "    </tr>\n",
       "    <tr>\n",
       "      <th>name</th>\n",
       "      <th></th>\n",
       "    </tr>\n",
       "  </thead>\n",
       "  <tbody>\n",
       "    <tr>\n",
       "      <th>Pokemon X/Pokemon Y</th>\n",
       "      <td>14.60</td>\n",
       "    </tr>\n",
       "    <tr>\n",
       "      <th>Pokemon Omega Ruby/Pokemon Alpha Sapphire</th>\n",
       "      <td>11.68</td>\n",
       "    </tr>\n",
       "    <tr>\n",
       "      <th>Super Smash Bros. for Wii U and 3DS</th>\n",
       "      <td>7.55</td>\n",
       "    </tr>\n",
       "    <tr>\n",
       "      <th>Pokemon Sun/Moon</th>\n",
       "      <td>7.14</td>\n",
       "    </tr>\n",
       "    <tr>\n",
       "      <th>Tomodachi Life</th>\n",
       "      <td>5.22</td>\n",
       "    </tr>\n",
       "  </tbody>\n",
       "</table>\n",
       "</div>"
      ],
      "text/plain": [
       "                                           total_sales\n",
       "name                                                  \n",
       "Pokemon X/Pokemon Y                              14.60\n",
       "Pokemon Omega Ruby/Pokemon Alpha Sapphire        11.68\n",
       "Super Smash Bros. for Wii U and 3DS               7.55\n",
       "Pokemon Sun/Moon                                  7.14\n",
       "Tomodachi Life                                    5.22"
      ]
     },
     "metadata": {},
     "output_type": "display_data"
    },
    {
     "name": "stdout",
     "output_type": "stream",
     "text": [
      "Доля в продажах игры-лидера\n"
     ]
    },
    {
     "data": {
      "text/html": [
       "<div>\n",
       "<style scoped>\n",
       "    .dataframe tbody tr th:only-of-type {\n",
       "        vertical-align: middle;\n",
       "    }\n",
       "\n",
       "    .dataframe tbody tr th {\n",
       "        vertical-align: top;\n",
       "    }\n",
       "\n",
       "    .dataframe thead th {\n",
       "        text-align: right;\n",
       "    }\n",
       "</style>\n",
       "<table border=\"1\" class=\"dataframe\">\n",
       "  <thead>\n",
       "    <tr style=\"text-align: right;\">\n",
       "      <th></th>\n",
       "      <th>total_sales</th>\n",
       "    </tr>\n",
       "    <tr>\n",
       "      <th>name</th>\n",
       "      <th></th>\n",
       "    </tr>\n",
       "  </thead>\n",
       "  <tbody>\n",
       "    <tr>\n",
       "      <th>Pokemon X/Pokemon Y</th>\n",
       "      <td>0.10</td>\n",
       "    </tr>\n",
       "  </tbody>\n",
       "</table>\n",
       "</div>"
      ],
      "text/plain": [
       "                     total_sales\n",
       "name                            \n",
       "Pokemon X/Pokemon Y         0.10"
      ]
     },
     "metadata": {},
     "output_type": "display_data"
    }
   ],
   "source": [
    "lead(gms_last.loc[gms_last['platform'] == '3DS'], '3DS')"
   ]
  },
  {
   "cell_type": "markdown",
   "id": "12c63f6d",
   "metadata": {},
   "source": [
    "Итак, игры-лидеры действительно значительно перетягивают на себя долю продаж в каждой из платформ (до 5-10 %), этим и объясняются смещённые медианы, большие \"усы\" и выбросы в диаграммах размаха."
   ]
  },
  {
   "cell_type": "markdown",
   "id": "959561c7",
   "metadata": {},
   "source": [
    "### Влияние отзывов на продажи"
   ]
  },
  {
   "cell_type": "markdown",
   "id": "00ff69c1",
   "metadata": {},
   "source": [
    "Посмотрим, как влияют на продажи игр внутри самой популярной платформы PS4 отзывы пользователей и критиков"
   ]
  },
  {
   "cell_type": "code",
   "execution_count": 44,
   "id": "2b53dcec",
   "metadata": {},
   "outputs": [],
   "source": [
    "# функция для вывода корреляций между продажами и отзывами и для построения диаграммы рассеяния \n",
    "# для любой платформы\n",
    "\n",
    "def df_cor(pl):\n",
    "    name = gms_last[gms_last['platform'] == pl]\n",
    "    print('Корреляция и диаграмма рассеяния по платформе', pl)\n",
    "    print()\n",
    "    print('Корреляция между продажами и отзывами критиков:',\n",
    "          name.total_sales.corr(name.critic_score))\n",
    "    print('Корреляция между продажами и отзывами пользователей:', \n",
    "          name.total_sales.corr(name.user_score))\n",
    "    \n",
    "    x = name['total_sales']\n",
    "    y1 = name['critic_score']\n",
    "    y2 = name['user_score']\n",
    "\n",
    "    fig, ax = plt.subplots()\n",
    "\n",
    "    ax.scatter(x, y1, label='критики')\n",
    "    ax.scatter(x, y2, label='пользователи')\n",
    "\n",
    "    plt.title('Диаграмма рассеяния (продажи vs. отзывы)')\n",
    "    plt.xlabel('Продажи')\n",
    "    plt.ylabel('Отзывы')\n",
    "    plt.legend(loc=(0.6, 0.5))\n",
    "    fig.set_figwidth(5)\n",
    "    fig.set_figheight(5)\n",
    "    plt.show()"
   ]
  },
  {
   "cell_type": "code",
   "execution_count": 45,
   "id": "7ddf09ef",
   "metadata": {},
   "outputs": [
    {
     "name": "stdout",
     "output_type": "stream",
     "text": [
      "Корреляция и диаграмма рассеяния по платформе PS4\n",
      "\n",
      "Корреляция между продажами и отзывами критиков: 0.40656790206178145\n",
      "Корреляция между продажами и отзывами пользователей: -0.031957110204556466\n"
     ]
    },
    {
     "data": {
      "image/png": "[encoded data removed]",
      "text/plain": [
       "<Figure size 360x360 with 1 Axes>"
      ]
     },
     "metadata": {
      "needs_background": "light"
     },
     "output_type": "display_data"
    }
   ],
   "source": [
    "df_cor(\"PS4\")"
   ]
  },
  {
   "cell_type": "markdown",
   "id": "da04cd8a",
   "metadata": {},
   "source": [
    "*Как видим, на платформе PS4 между отзывами критиков и продажами имеется прямая связь средней силы (корреляция 0,406), тогда как между отзывами пользователей и продажами связи нет (корреляция -0,03).*"
   ]
  },
  {
   "cell_type": "markdown",
   "id": "518ab36b",
   "metadata": {},
   "source": [
    "Пользуясь готовой функцией, посмотрим на аналогичные параметры по другим платформам и соотнесём выводы, сделанные по платформе PS4 с продажами игр его конкурентов."
   ]
  },
  {
   "cell_type": "code",
   "execution_count": 46,
   "id": "c5cdaeef",
   "metadata": {},
   "outputs": [
    {
     "name": "stdout",
     "output_type": "stream",
     "text": [
      "Корреляция и диаграмма рассеяния по платформе XOne\n",
      "\n",
      "Корреляция между продажами и отзывами критиков: 0.4169983280084016\n",
      "Корреляция между продажами и отзывами пользователей: -0.06892505328279419\n"
     ]
    },
    {
     "data": {
      "image/png": "[encoded data removed]",
      "text/plain": [
       "<Figure size 360x360 with 1 Axes>"
      ]
     },
     "metadata": {
      "needs_background": "light"
     },
     "output_type": "display_data"
    }
   ],
   "source": [
    "df_cor(\"XOne\")"
   ]
  },
  {
   "cell_type": "markdown",
   "id": "ec6fa3d2",
   "metadata": {},
   "source": [
    "Ситуация с влиянием отзывов критиков и пользователей платформы XOne аналогична PS4: между отзывами критиков и продажами имеется прямая связь средней силы (корреляция 0,416), тогда как между отзывами пользователей и продажами связи нет (корреляция -0,06)."
   ]
  },
  {
   "cell_type": "code",
   "execution_count": 47,
   "id": "2aff819d",
   "metadata": {
    "scrolled": false
   },
   "outputs": [
    {
     "name": "stdout",
     "output_type": "stream",
     "text": [
      "Корреляция и диаграмма рассеяния по платформе 3DS\n",
      "\n",
      "Корреляция между продажами и отзывами критиков: 0.3570566142288104\n",
      "Корреляция между продажами и отзывами пользователей: 0.24150411773563024\n"
     ]
    },
    {
     "data": {
      "image/png": "[encoded data removed]",
      "text/plain": [
       "<Figure size 360x360 with 1 Axes>"
      ]
     },
     "metadata": {
      "needs_background": "light"
     },
     "output_type": "display_data"
    }
   ],
   "source": [
    "df_cor(\"3DS\")"
   ]
  },
  {
   "cell_type": "markdown",
   "id": "970c17da",
   "metadata": {},
   "source": [
    "Корреляция между отзывами критиков и пользователей и продажами на платформе 3DS несколько отличается: между отзывами критиков и продажами имеется слабая прямая связь (корреляция 0,35), равно как между отзывами пользователей и продажами (корреляция 0,24)."
   ]
  },
  {
   "cell_type": "markdown",
   "id": "b6313df0",
   "metadata": {},
   "source": [
    "Итак, на платформах PS4 и XOne между отзывами критиков и продажами имеется прямая связь средней силы (корреляция 0,406 и 0,416 соответственно), тогда как между отзывами пользователей и продажами связи нет (корреляция -0,03 и - 0,06 соответственно). Корреляция между отзывами критиков и пользователей и продажами на платформе 3DS несколько отличается: между отзывами критиков и продажами имеется слабая прямая связь (корреляция 0,35), равно как между отзывами пользователей и продажами (корреляция 0,24)."
   ]
  },
  {
   "cell_type": "markdown",
   "id": "032987c7",
   "metadata": {},
   "source": [
    "### Распределение игр по жанрам"
   ]
  },
  {
   "cell_type": "code",
   "execution_count": 48,
   "id": "596056b3",
   "metadata": {},
   "outputs": [
    {
     "name": "stdout",
     "output_type": "stream",
     "text": [
      "Рейтинг медианных продаж по жанрам:\n"
     ]
    },
    {
     "data": {
      "text/html": [
       "<div>\n",
       "<style scoped>\n",
       "    .dataframe tbody tr th:only-of-type {\n",
       "        vertical-align: middle;\n",
       "    }\n",
       "\n",
       "    .dataframe tbody tr th {\n",
       "        vertical-align: top;\n",
       "    }\n",
       "\n",
       "    .dataframe thead th {\n",
       "        text-align: right;\n",
       "    }\n",
       "</style>\n",
       "<table border=\"1\" class=\"dataframe\">\n",
       "  <thead>\n",
       "    <tr style=\"text-align: right;\">\n",
       "      <th>genre</th>\n",
       "      <th>Shooter</th>\n",
       "      <th>Sports</th>\n",
       "      <th>Platform</th>\n",
       "      <th>Role-Playing</th>\n",
       "      <th>Fighting</th>\n",
       "      <th>Racing</th>\n",
       "      <th>Action</th>\n",
       "      <th>Simulation</th>\n",
       "      <th>Misc</th>\n",
       "      <th>Strategy</th>\n",
       "      <th>Puzzle</th>\n",
       "      <th>Adventure</th>\n",
       "    </tr>\n",
       "  </thead>\n",
       "  <tbody>\n",
       "    <tr>\n",
       "      <th>total_sales</th>\n",
       "      <td>0.45</td>\n",
       "      <td>0.24</td>\n",
       "      <td>0.22</td>\n",
       "      <td>0.12</td>\n",
       "      <td>0.12</td>\n",
       "      <td>0.12</td>\n",
       "      <td>0.11</td>\n",
       "      <td>0.10</td>\n",
       "      <td>0.10</td>\n",
       "      <td>0.08</td>\n",
       "      <td>0.06</td>\n",
       "      <td>0.03</td>\n",
       "    </tr>\n",
       "  </tbody>\n",
       "</table>\n",
       "</div>"
      ],
      "text/plain": [
       "genre        Shooter  Sports  Platform  Role-Playing  Fighting  Racing  \\\n",
       "total_sales     0.45    0.24      0.22          0.12      0.12    0.12   \n",
       "\n",
       "genre        Action  Simulation  Misc  Strategy  Puzzle  Adventure  \n",
       "total_sales    0.11        0.10  0.10      0.08    0.06       0.03  "
      ]
     },
     "metadata": {},
     "output_type": "display_data"
    },
    {
     "data": {
      "image/png": "[encoded data removed]",
      "text/plain": [
       "<Figure size 504x504 with 1 Axes>"
      ]
     },
     "metadata": {
      "needs_background": "light"
     },
     "output_type": "display_data"
    }
   ],
   "source": [
    "gms_genre = gms_last.pivot_table(index='genre', values='total_sales', aggfunc='median')\\\n",
    "        .sort_values(by='total_sales', ascending=False)\n",
    "print('Рейтинг медианных продаж по жанрам:')\n",
    "display(gms_genre.T)\n",
    "\n",
    "gms_genre.plot(kind='bar', figsize=(7, 7));\n",
    "plt.title('Распределение игр по жанрам')\n",
    "plt.xlabel('жанры')\n",
    "plt.ylabel('медианные продажи')\n",
    "plt.show()"
   ]
  },
  {
   "cell_type": "markdown",
   "id": "ca346a79",
   "metadata": {},
   "source": [
    "Самым \"продаваемым\" жанром по медианным продажам является Shooter (45 млн. копий), на втором месте с отрывом почти в 2 раза - Sports (24 млн. копий) и Platform (22 млн. копий). Остальные жанры значительно уступают лидерам. Самый малопродаваемый жанр - Adventure (3 млн. копий)."
   ]
  },
  {
   "cell_type": "markdown",
   "id": "5753d6ea",
   "metadata": {},
   "source": [
    "### Вывод"
   ]
  },
  {
   "cell_type": "markdown",
   "id": "51fde474",
   "metadata": {},
   "source": [
    "**Исследовательский анализ показал следующее:**  \n",
    "\n",
    "1. Самое большое количество игр было выпущено в 2008-2009 годах - 1427 и 1426 штук соответственно. При этом до 2008 года наблюдался активный рост в количестве выпускаемых игр. Однако после 2009 года, количество выпускаемых игр снизилось в 1,5 раза (с 1426 штук до 502).  \n",
    "\n",
    "2. Средний срок \"жизни\" платформы - около 10 лет. За это время она появляется, стремительно растёт, достигает пика продаж, а потом исчезает. В период с 2004 по 2010 появилось самое большое количество новых платформ - DS, PS3, Wii и X360.  \n",
    "\n",
    "3. Самой продаваемой платформой за все время является PS2. Однако она \"прожила\" лишь до 2011 года. Вероятно это связано с ростом популярности её преемника PS3 и прямого конкурента - X360. Таким образом, лидер по количеству продаж должен определяться лишь в контексте определённого периода.  \n",
    "\n",
    "4. За актуальный для целей исследования период мы приняли последние 4 года: с 2013 по 2016 гг. ввиду динамичности развития игровой индустрии и заметных тенденций к спаду продаж в этот период. \n",
    "\n",
    "5. В период с 2013-2016 гг. все платформы стали терять продажи. Но среди них есть те, чьи графики стремительно идут вниз весь актуальный период (PS3, X360), а есть те, у которых график \"стабильно волнообразный\" и в 2016 году показывает высокие продажи по сравнению с остальными - это PS4, XOne и 3DS. Причём снижение популярности PS3 относительно PS4 и X360 относительно XOne объясняется тем, что PS4 и XOne - новые модели PS3 и X360 соответственно. Остальные платформы имеют стабильно низкие продажи, поэтому их в число популярных не берём. \n",
    "\n",
    "6. Внутри каждой из платформ есть лидирующие игры, у которых доля продаж (до 5-10 %) влияет на общее распределение продаж всех игр, чем объясняется смещённая медиана, большие \"усы\" и выборосы в диаграммах размаха.  \n",
    "\n",
    "7. На платформах PS4 и XOne между отзывами критиков и продажами имеется прямая связь средней силы (корреляция 0,406 и 0,416 соответственно), тогда как между отзывами пользователей и продажами связи нет (корреляция -0,03 и - 0,06 соответственно). Корреляция между отзывами критиков и пользователей и продажами на платформе 3DS несколько отличается: между отзывами критиков и продажами имеется слабая прямая связь (корреляция 0,35), равно как между отзывами пользователей и продажами (корреляция 0,24).  \n",
    "\n",
    "8. Самым \"продаваемым\" жанром по медианным продажам является Shooter (45 млн. копий), на втором месте с отрывом почти в 2 раза - Sports (24 млн. копий) и Platform (22 млн. копий). Остальные жанры значительно уступают лидерам. Самый малопродаваемый жанр - Adventure (3 млн. копий)."
   ]
  },
  {
   "cell_type": "markdown",
   "id": "26f1cd65",
   "metadata": {},
   "source": [
    "## Портрет пользователя каждого региона"
   ]
  },
  {
   "cell_type": "markdown",
   "id": "19321cf1",
   "metadata": {},
   "source": [
    "Выделим регионы в отдельные столбцы булевого типа:"
   ]
  },
  {
   "cell_type": "code",
   "execution_count": 49,
   "id": "88a128d1",
   "metadata": {},
   "outputs": [
    {
     "data": {
      "text/html": [
       "<div>\n",
       "<style scoped>\n",
       "    .dataframe tbody tr th:only-of-type {\n",
       "        vertical-align: middle;\n",
       "    }\n",
       "\n",
       "    .dataframe tbody tr th {\n",
       "        vertical-align: top;\n",
       "    }\n",
       "\n",
       "    .dataframe thead th {\n",
       "        text-align: right;\n",
       "    }\n",
       "</style>\n",
       "<table border=\"1\" class=\"dataframe\">\n",
       "  <thead>\n",
       "    <tr style=\"text-align: right;\">\n",
       "      <th></th>\n",
       "      <th>11025</th>\n",
       "      <th>13457</th>\n",
       "      <th>12078</th>\n",
       "      <th>16338</th>\n",
       "      <th>12323</th>\n",
       "    </tr>\n",
       "  </thead>\n",
       "  <tbody>\n",
       "    <tr>\n",
       "      <th>name</th>\n",
       "      <td>Samurai Warriors 2: Xtreme Legends</td>\n",
       "      <td>Hana to Ikimo no Rittai Zukan</td>\n",
       "      <td>Cardfight!! Vanguard: Lock On Victory!!</td>\n",
       "      <td>Romeo Vs. Juliet</td>\n",
       "      <td>Secret Files: Tunguska</td>\n",
       "    </tr>\n",
       "    <tr>\n",
       "      <th>platform</th>\n",
       "      <td>PS2</td>\n",
       "      <td>3DS</td>\n",
       "      <td>3DS</td>\n",
       "      <td>PSP</td>\n",
       "      <td>Wii</td>\n",
       "    </tr>\n",
       "    <tr>\n",
       "      <th>year_of_release</th>\n",
       "      <td>2007</td>\n",
       "      <td>2011</td>\n",
       "      <td>2014</td>\n",
       "      <td>2013</td>\n",
       "      <td>2008</td>\n",
       "    </tr>\n",
       "    <tr>\n",
       "      <th>genre</th>\n",
       "      <td>Action</td>\n",
       "      <td>Misc</td>\n",
       "      <td>Misc</td>\n",
       "      <td>Adventure</td>\n",
       "      <td>Adventure</td>\n",
       "    </tr>\n",
       "    <tr>\n",
       "      <th>na_sales</th>\n",
       "      <td>0.04</td>\n",
       "      <td>0.00</td>\n",
       "      <td>0.00</td>\n",
       "      <td>0.00</td>\n",
       "      <td>0.04</td>\n",
       "    </tr>\n",
       "    <tr>\n",
       "      <th>eu_sales</th>\n",
       "      <td>0.03</td>\n",
       "      <td>0.00</td>\n",
       "      <td>0.00</td>\n",
       "      <td>0.00</td>\n",
       "      <td>0.01</td>\n",
       "    </tr>\n",
       "    <tr>\n",
       "      <th>jp_sales</th>\n",
       "      <td>0.00</td>\n",
       "      <td>0.04</td>\n",
       "      <td>0.07</td>\n",
       "      <td>0.01</td>\n",
       "      <td>0.00</td>\n",
       "    </tr>\n",
       "    <tr>\n",
       "      <th>other_sales</th>\n",
       "      <td>0.01</td>\n",
       "      <td>0.00</td>\n",
       "      <td>0.00</td>\n",
       "      <td>0.00</td>\n",
       "      <td>0.00</td>\n",
       "    </tr>\n",
       "    <tr>\n",
       "      <th>critic_score</th>\n",
       "      <td>50.00</td>\n",
       "      <td>NaN</td>\n",
       "      <td>NaN</td>\n",
       "      <td>NaN</td>\n",
       "      <td>65.00</td>\n",
       "    </tr>\n",
       "    <tr>\n",
       "      <th>user_score</th>\n",
       "      <td>8.00</td>\n",
       "      <td>NaN</td>\n",
       "      <td>NaN</td>\n",
       "      <td>NaN</td>\n",
       "      <td>7.60</td>\n",
       "    </tr>\n",
       "    <tr>\n",
       "      <th>rating</th>\n",
       "      <td>T</td>\n",
       "      <td>Unknow</td>\n",
       "      <td>Unknow</td>\n",
       "      <td>Unknow</td>\n",
       "      <td>T</td>\n",
       "    </tr>\n",
       "    <tr>\n",
       "      <th>total_sales</th>\n",
       "      <td>0.08</td>\n",
       "      <td>0.04</td>\n",
       "      <td>0.07</td>\n",
       "      <td>0.01</td>\n",
       "      <td>0.05</td>\n",
       "    </tr>\n",
       "    <tr>\n",
       "      <th>north_america</th>\n",
       "      <td>1</td>\n",
       "      <td>0</td>\n",
       "      <td>0</td>\n",
       "      <td>0</td>\n",
       "      <td>1</td>\n",
       "    </tr>\n",
       "    <tr>\n",
       "      <th>europe</th>\n",
       "      <td>1</td>\n",
       "      <td>0</td>\n",
       "      <td>0</td>\n",
       "      <td>0</td>\n",
       "      <td>1</td>\n",
       "    </tr>\n",
       "    <tr>\n",
       "      <th>japan</th>\n",
       "      <td>0</td>\n",
       "      <td>1</td>\n",
       "      <td>1</td>\n",
       "      <td>1</td>\n",
       "      <td>0</td>\n",
       "    </tr>\n",
       "    <tr>\n",
       "      <th>other_reg</th>\n",
       "      <td>1</td>\n",
       "      <td>0</td>\n",
       "      <td>0</td>\n",
       "      <td>0</td>\n",
       "      <td>0</td>\n",
       "    </tr>\n",
       "  </tbody>\n",
       "</table>\n",
       "</div>"
      ],
      "text/plain": [
       "                                              11025  \\\n",
       "name             Samurai Warriors 2: Xtreme Legends   \n",
       "platform                                        PS2   \n",
       "year_of_release                                2007   \n",
       "genre                                        Action   \n",
       "na_sales                                       0.04   \n",
       "eu_sales                                       0.03   \n",
       "jp_sales                                       0.00   \n",
       "other_sales                                    0.01   \n",
       "critic_score                                  50.00   \n",
       "user_score                                     8.00   \n",
       "rating                                            T   \n",
       "total_sales                                    0.08   \n",
       "north_america                                     1   \n",
       "europe                                            1   \n",
       "japan                                             0   \n",
       "other_reg                                         1   \n",
       "\n",
       "                                         13457  \\\n",
       "name             Hana to Ikimo no Rittai Zukan   \n",
       "platform                                   3DS   \n",
       "year_of_release                           2011   \n",
       "genre                                     Misc   \n",
       "na_sales                                  0.00   \n",
       "eu_sales                                  0.00   \n",
       "jp_sales                                  0.04   \n",
       "other_sales                               0.00   \n",
       "critic_score                               NaN   \n",
       "user_score                                 NaN   \n",
       "rating                                  Unknow   \n",
       "total_sales                               0.04   \n",
       "north_america                                0   \n",
       "europe                                       0   \n",
       "japan                                        1   \n",
       "other_reg                                    0   \n",
       "\n",
       "                                                   12078             16338  \\\n",
       "name             Cardfight!! Vanguard: Lock On Victory!!  Romeo Vs. Juliet   \n",
       "platform                                             3DS               PSP   \n",
       "year_of_release                                     2014              2013   \n",
       "genre                                               Misc         Adventure   \n",
       "na_sales                                            0.00              0.00   \n",
       "eu_sales                                            0.00              0.00   \n",
       "jp_sales                                            0.07              0.01   \n",
       "other_sales                                         0.00              0.00   \n",
       "critic_score                                         NaN               NaN   \n",
       "user_score                                           NaN               NaN   \n",
       "rating                                            Unknow            Unknow   \n",
       "total_sales                                         0.07              0.01   \n",
       "north_america                                          0                 0   \n",
       "europe                                                 0                 0   \n",
       "japan                                                  1                 1   \n",
       "other_reg                                              0                 0   \n",
       "\n",
       "                                  12323  \n",
       "name             Secret Files: Tunguska  \n",
       "platform                            Wii  \n",
       "year_of_release                    2008  \n",
       "genre                         Adventure  \n",
       "na_sales                           0.04  \n",
       "eu_sales                           0.01  \n",
       "jp_sales                           0.00  \n",
       "other_sales                        0.00  \n",
       "critic_score                      65.00  \n",
       "user_score                         7.60  \n",
       "rating                                T  \n",
       "total_sales                        0.05  \n",
       "north_america                         1  \n",
       "europe                                1  \n",
       "japan                                 0  \n",
       "other_reg                             0  "
      ]
     },
     "execution_count": 49,
     "metadata": {},
     "output_type": "execute_result"
    }
   ],
   "source": [
    "def na(gms):\n",
    "    for x in np.arange(gms.na_sales):\n",
    "        return 1\n",
    "    return 0\n",
    "\n",
    "def eu(gms):\n",
    "    for x in np.arange(gms.eu_sales):\n",
    "        return 1\n",
    "    return 0\n",
    "\n",
    "def jp(gms):\n",
    "    for x in np.arange(gms.jp_sales):\n",
    "        return 1\n",
    "    return 0\n",
    "\n",
    "def other(gms):\n",
    "    for x in np.arange(gms.other_sales):\n",
    "        return 1\n",
    "    return 0\n",
    "\n",
    "gms['north_america'] = gms.apply(na, axis=1)\n",
    "gms['europe'] = gms.apply(eu, axis=1)\n",
    "gms['japan'] = gms.apply(jp, axis=1)\n",
    "gms['other_reg'] = gms.apply(other, axis=1)\n",
    "\n",
    "gms.sample(5).T"
   ]
  },
  {
   "cell_type": "markdown",
   "id": "39f30149",
   "metadata": {},
   "source": [
    "По обновлённой таблице ещё раз выделим актуальный период:"
   ]
  },
  {
   "cell_type": "code",
   "execution_count": 50,
   "id": "c28bf05c",
   "metadata": {},
   "outputs": [
    {
     "data": {
      "text/html": [
       "<div>\n",
       "<style scoped>\n",
       "    .dataframe tbody tr th:only-of-type {\n",
       "        vertical-align: middle;\n",
       "    }\n",
       "\n",
       "    .dataframe tbody tr th {\n",
       "        vertical-align: top;\n",
       "    }\n",
       "\n",
       "    .dataframe thead th {\n",
       "        text-align: right;\n",
       "    }\n",
       "</style>\n",
       "<table border=\"1\" class=\"dataframe\">\n",
       "  <thead>\n",
       "    <tr style=\"text-align: right;\">\n",
       "      <th></th>\n",
       "      <th>13747</th>\n",
       "      <th>14087</th>\n",
       "      <th>15512</th>\n",
       "      <th>9278</th>\n",
       "      <th>14213</th>\n",
       "    </tr>\n",
       "  </thead>\n",
       "  <tbody>\n",
       "    <tr>\n",
       "      <th>name</th>\n",
       "      <td>Warriors Orochi 3</td>\n",
       "      <td>Super Hero Generation</td>\n",
       "      <td>Rabbids Invasion: The Interactive TV Show</td>\n",
       "      <td>Gravity Rush Remastered</td>\n",
       "      <td>Toaru Majutsu no Kagaku no Ensemble</td>\n",
       "    </tr>\n",
       "    <tr>\n",
       "      <th>platform</th>\n",
       "      <td>XOne</td>\n",
       "      <td>PS3</td>\n",
       "      <td>PS4</td>\n",
       "      <td>PS4</td>\n",
       "      <td>PSP</td>\n",
       "    </tr>\n",
       "    <tr>\n",
       "      <th>year_of_release</th>\n",
       "      <td>2014</td>\n",
       "      <td>2014</td>\n",
       "      <td>2014</td>\n",
       "      <td>2015</td>\n",
       "      <td>2013</td>\n",
       "    </tr>\n",
       "    <tr>\n",
       "      <th>genre</th>\n",
       "      <td>Action</td>\n",
       "      <td>Role-Playing</td>\n",
       "      <td>Misc</td>\n",
       "      <td>Action</td>\n",
       "      <td>Adventure</td>\n",
       "    </tr>\n",
       "    <tr>\n",
       "      <th>na_sales</th>\n",
       "      <td>0.01</td>\n",
       "      <td>0.00</td>\n",
       "      <td>0.00</td>\n",
       "      <td>0.02</td>\n",
       "      <td>0.00</td>\n",
       "    </tr>\n",
       "    <tr>\n",
       "      <th>eu_sales</th>\n",
       "      <td>0.03</td>\n",
       "      <td>0.00</td>\n",
       "      <td>0.01</td>\n",
       "      <td>0.05</td>\n",
       "      <td>0.00</td>\n",
       "    </tr>\n",
       "    <tr>\n",
       "      <th>jp_sales</th>\n",
       "      <td>0.00</td>\n",
       "      <td>0.03</td>\n",
       "      <td>0.00</td>\n",
       "      <td>0.04</td>\n",
       "      <td>0.03</td>\n",
       "    </tr>\n",
       "    <tr>\n",
       "      <th>other_sales</th>\n",
       "      <td>0.00</td>\n",
       "      <td>0.00</td>\n",
       "      <td>0.00</td>\n",
       "      <td>0.01</td>\n",
       "      <td>0.00</td>\n",
       "    </tr>\n",
       "    <tr>\n",
       "      <th>critic_score</th>\n",
       "      <td>NaN</td>\n",
       "      <td>NaN</td>\n",
       "      <td>NaN</td>\n",
       "      <td>80.00</td>\n",
       "      <td>NaN</td>\n",
       "    </tr>\n",
       "    <tr>\n",
       "      <th>user_score</th>\n",
       "      <td>NaN</td>\n",
       "      <td>NaN</td>\n",
       "      <td>NaN</td>\n",
       "      <td>8.20</td>\n",
       "      <td>NaN</td>\n",
       "    </tr>\n",
       "    <tr>\n",
       "      <th>rating</th>\n",
       "      <td>Unknow</td>\n",
       "      <td>Unknow</td>\n",
       "      <td>Unknow</td>\n",
       "      <td>T</td>\n",
       "      <td>Unknow</td>\n",
       "    </tr>\n",
       "    <tr>\n",
       "      <th>total_sales</th>\n",
       "      <td>0.04</td>\n",
       "      <td>0.03</td>\n",
       "      <td>0.01</td>\n",
       "      <td>0.12</td>\n",
       "      <td>0.03</td>\n",
       "    </tr>\n",
       "    <tr>\n",
       "      <th>north_america</th>\n",
       "      <td>1</td>\n",
       "      <td>0</td>\n",
       "      <td>0</td>\n",
       "      <td>1</td>\n",
       "      <td>0</td>\n",
       "    </tr>\n",
       "    <tr>\n",
       "      <th>europe</th>\n",
       "      <td>1</td>\n",
       "      <td>0</td>\n",
       "      <td>1</td>\n",
       "      <td>1</td>\n",
       "      <td>0</td>\n",
       "    </tr>\n",
       "    <tr>\n",
       "      <th>japan</th>\n",
       "      <td>0</td>\n",
       "      <td>1</td>\n",
       "      <td>0</td>\n",
       "      <td>1</td>\n",
       "      <td>1</td>\n",
       "    </tr>\n",
       "    <tr>\n",
       "      <th>other_reg</th>\n",
       "      <td>0</td>\n",
       "      <td>0</td>\n",
       "      <td>0</td>\n",
       "      <td>1</td>\n",
       "      <td>0</td>\n",
       "    </tr>\n",
       "  </tbody>\n",
       "</table>\n",
       "</div>"
      ],
      "text/plain": [
       "                             13747                  14087  \\\n",
       "name             Warriors Orochi 3  Super Hero Generation   \n",
       "platform                      XOne                    PS3   \n",
       "year_of_release               2014                   2014   \n",
       "genre                       Action           Role-Playing   \n",
       "na_sales                      0.01                   0.00   \n",
       "eu_sales                      0.03                   0.00   \n",
       "jp_sales                      0.00                   0.03   \n",
       "other_sales                   0.00                   0.00   \n",
       "critic_score                   NaN                    NaN   \n",
       "user_score                     NaN                    NaN   \n",
       "rating                      Unknow                 Unknow   \n",
       "total_sales                   0.04                   0.03   \n",
       "north_america                    1                      0   \n",
       "europe                           1                      0   \n",
       "japan                            0                      1   \n",
       "other_reg                        0                      0   \n",
       "\n",
       "                                                     15512  \\\n",
       "name             Rabbids Invasion: The Interactive TV Show   \n",
       "platform                                               PS4   \n",
       "year_of_release                                       2014   \n",
       "genre                                                 Misc   \n",
       "na_sales                                              0.00   \n",
       "eu_sales                                              0.01   \n",
       "jp_sales                                              0.00   \n",
       "other_sales                                           0.00   \n",
       "critic_score                                           NaN   \n",
       "user_score                                             NaN   \n",
       "rating                                              Unknow   \n",
       "total_sales                                           0.01   \n",
       "north_america                                            0   \n",
       "europe                                                   1   \n",
       "japan                                                    0   \n",
       "other_reg                                                0   \n",
       "\n",
       "                                   9278                                 14213  \n",
       "name             Gravity Rush Remastered  Toaru Majutsu no Kagaku no Ensemble  \n",
       "platform                             PS4                                  PSP  \n",
       "year_of_release                     2015                                 2013  \n",
       "genre                             Action                            Adventure  \n",
       "na_sales                            0.02                                 0.00  \n",
       "eu_sales                            0.05                                 0.00  \n",
       "jp_sales                            0.04                                 0.03  \n",
       "other_sales                         0.01                                 0.00  \n",
       "critic_score                       80.00                                  NaN  \n",
       "user_score                          8.20                                  NaN  \n",
       "rating                                 T                               Unknow  \n",
       "total_sales                         0.12                                 0.03  \n",
       "north_america                          1                                    0  \n",
       "europe                                 1                                    0  \n",
       "japan                                  1                                    1  \n",
       "other_reg                              1                                    0  "
      ]
     },
     "execution_count": 50,
     "metadata": {},
     "output_type": "execute_result"
    }
   ],
   "source": [
    "gms_last2 = gms.loc[gms['year_of_release'] >= 2013]\n",
    "gms_last2.sample(5).T"
   ]
  },
  {
   "cell_type": "markdown",
   "id": "3ae43a38",
   "metadata": {},
   "source": [
    "Далее составим портрет пользователя каждого региона"
   ]
  },
  {
   "cell_type": "code",
   "execution_count": 51,
   "id": "7cccc230",
   "metadata": {},
   "outputs": [],
   "source": [
    "# функция для определения топ-5 популярных платформ, топ-5 жанров и зависимости рейтинга ESRB \n",
    "# для каждого из регионов\n",
    "\n",
    "def portrait(reg, name, sale):\n",
    "    print('Портрет пользователя', name)\n",
    "    print('')\n",
    "    print('Общая сумма продаж в регионе:', round(gms_last2[sale].sum(), 2))\n",
    "    print('')\n",
    "    print('Топ-5 популярных платформ:')\n",
    "    \n",
    "    reg_platf = reg.pivot_table(index='platform', values=sale, aggfunc='sum')\n",
    "    reg_platf.columns = ['sum_sales']  # переименуем столбец\n",
    "    \n",
    "    # расчёт доли продаж по платформе относительно общей суммы продаж в регионе:\n",
    "    reg_platf['ratio_sales'] = reg_platf['sum_sales'] / gms_last2[sale].sum()\n",
    "    \n",
    "    display(reg_platf.sort_values(by='sum_sales', ascending=False).head(5))\n",
    "    print('')\n",
    "    \n",
    "    print('Топ-5 популярных жанров:')\n",
    "    \n",
    "    reg_genre = reg.pivot_table(index='genre', values=sale, aggfunc='sum')\n",
    "    reg_genre.columns =  ['sum_sales'] # переименуем столбец\n",
    "    \n",
    "    # расчёт доли продаж по жанру относительно общей суммы продаж в регионе:\n",
    "    reg_genre['ratio_sales'] = reg_genre['sum_sales'] / gms_last2[sale].sum()\n",
    "    \n",
    "    display(reg_genre.sort_values(by='sum_sales', ascending=False).head(5))\n",
    "    print('')\n",
    "    \n",
    "    print('Зависимость суммарных продаж от рейтинга:')\n",
    "    \n",
    "    reg_rating = reg.pivot_table(index='rating', values=sale, aggfunc='sum')\n",
    "    reg_rating.columns = ['sum_sales'] # переименуем столбец\n",
    "        \n",
    "    # расчёт доли продаж по рейтингу относительно общей суммы продаж в регионе:\n",
    "    reg_rating['ratio_sales'] = reg_rating['sum_sales'] / gms_last2[sale].sum()\n",
    "    \n",
    "    display(reg_rating.sort_values(by='sum_sales', ascending=False).head(5))"
   ]
  },
  {
   "cell_type": "code",
   "execution_count": 52,
   "id": "6ec70629",
   "metadata": {},
   "outputs": [
    {
     "name": "stdout",
     "output_type": "stream",
     "text": [
      "Портрет пользователя Северной Америки\n",
      "\n",
      "Общая сумма продаж в регионе: 437.71\n",
      "\n",
      "Топ-5 популярных платформ:\n"
     ]
    },
    {
     "data": {
      "text/html": [
       "<div>\n",
       "<style scoped>\n",
       "    .dataframe tbody tr th:only-of-type {\n",
       "        vertical-align: middle;\n",
       "    }\n",
       "\n",
       "    .dataframe tbody tr th {\n",
       "        vertical-align: top;\n",
       "    }\n",
       "\n",
       "    .dataframe thead th {\n",
       "        text-align: right;\n",
       "    }\n",
       "</style>\n",
       "<table border=\"1\" class=\"dataframe\">\n",
       "  <thead>\n",
       "    <tr style=\"text-align: right;\">\n",
       "      <th></th>\n",
       "      <th>sum_sales</th>\n",
       "      <th>ratio_sales</th>\n",
       "    </tr>\n",
       "    <tr>\n",
       "      <th>platform</th>\n",
       "      <th></th>\n",
       "      <th></th>\n",
       "    </tr>\n",
       "  </thead>\n",
       "  <tbody>\n",
       "    <tr>\n",
       "      <th>PS4</th>\n",
       "      <td>108.74</td>\n",
       "      <td>0.25</td>\n",
       "    </tr>\n",
       "    <tr>\n",
       "      <th>XOne</th>\n",
       "      <td>93.12</td>\n",
       "      <td>0.21</td>\n",
       "    </tr>\n",
       "    <tr>\n",
       "      <th>X360</th>\n",
       "      <td>81.66</td>\n",
       "      <td>0.19</td>\n",
       "    </tr>\n",
       "    <tr>\n",
       "      <th>PS3</th>\n",
       "      <td>63.50</td>\n",
       "      <td>0.15</td>\n",
       "    </tr>\n",
       "    <tr>\n",
       "      <th>3DS</th>\n",
       "      <td>38.20</td>\n",
       "      <td>0.09</td>\n",
       "    </tr>\n",
       "  </tbody>\n",
       "</table>\n",
       "</div>"
      ],
      "text/plain": [
       "          sum_sales  ratio_sales\n",
       "platform                        \n",
       "PS4          108.74         0.25\n",
       "XOne          93.12         0.21\n",
       "X360          81.66         0.19\n",
       "PS3           63.50         0.15\n",
       "3DS           38.20         0.09"
      ]
     },
     "metadata": {},
     "output_type": "display_data"
    },
    {
     "name": "stdout",
     "output_type": "stream",
     "text": [
      "\n",
      "Топ-5 популярных жанров:\n"
     ]
    },
    {
     "data": {
      "text/html": [
       "<div>\n",
       "<style scoped>\n",
       "    .dataframe tbody tr th:only-of-type {\n",
       "        vertical-align: middle;\n",
       "    }\n",
       "\n",
       "    .dataframe tbody tr th {\n",
       "        vertical-align: top;\n",
       "    }\n",
       "\n",
       "    .dataframe thead th {\n",
       "        text-align: right;\n",
       "    }\n",
       "</style>\n",
       "<table border=\"1\" class=\"dataframe\">\n",
       "  <thead>\n",
       "    <tr style=\"text-align: right;\">\n",
       "      <th></th>\n",
       "      <th>sum_sales</th>\n",
       "      <th>ratio_sales</th>\n",
       "    </tr>\n",
       "    <tr>\n",
       "      <th>genre</th>\n",
       "      <th></th>\n",
       "      <th></th>\n",
       "    </tr>\n",
       "  </thead>\n",
       "  <tbody>\n",
       "    <tr>\n",
       "      <th>Action</th>\n",
       "      <td>126.05</td>\n",
       "      <td>0.29</td>\n",
       "    </tr>\n",
       "    <tr>\n",
       "      <th>Shooter</th>\n",
       "      <td>109.74</td>\n",
       "      <td>0.25</td>\n",
       "    </tr>\n",
       "    <tr>\n",
       "      <th>Sports</th>\n",
       "      <td>65.27</td>\n",
       "      <td>0.15</td>\n",
       "    </tr>\n",
       "    <tr>\n",
       "      <th>Role-Playing</th>\n",
       "      <td>46.40</td>\n",
       "      <td>0.11</td>\n",
       "    </tr>\n",
       "    <tr>\n",
       "      <th>Misc</th>\n",
       "      <td>27.49</td>\n",
       "      <td>0.06</td>\n",
       "    </tr>\n",
       "  </tbody>\n",
       "</table>\n",
       "</div>"
      ],
      "text/plain": [
       "              sum_sales  ratio_sales\n",
       "genre                               \n",
       "Action           126.05         0.29\n",
       "Shooter          109.74         0.25\n",
       "Sports            65.27         0.15\n",
       "Role-Playing      46.40         0.11\n",
       "Misc              27.49         0.06"
      ]
     },
     "metadata": {},
     "output_type": "display_data"
    },
    {
     "name": "stdout",
     "output_type": "stream",
     "text": [
      "\n",
      "Зависимость суммарных продаж от рейтинга:\n"
     ]
    },
    {
     "data": {
      "text/html": [
       "<div>\n",
       "<style scoped>\n",
       "    .dataframe tbody tr th:only-of-type {\n",
       "        vertical-align: middle;\n",
       "    }\n",
       "\n",
       "    .dataframe tbody tr th {\n",
       "        vertical-align: top;\n",
       "    }\n",
       "\n",
       "    .dataframe thead th {\n",
       "        text-align: right;\n",
       "    }\n",
       "</style>\n",
       "<table border=\"1\" class=\"dataframe\">\n",
       "  <thead>\n",
       "    <tr style=\"text-align: right;\">\n",
       "      <th></th>\n",
       "      <th>sum_sales</th>\n",
       "      <th>ratio_sales</th>\n",
       "    </tr>\n",
       "    <tr>\n",
       "      <th>rating</th>\n",
       "      <th></th>\n",
       "      <th></th>\n",
       "    </tr>\n",
       "  </thead>\n",
       "  <tbody>\n",
       "    <tr>\n",
       "      <th>M</th>\n",
       "      <td>165.21</td>\n",
       "      <td>0.38</td>\n",
       "    </tr>\n",
       "    <tr>\n",
       "      <th>Unknow</th>\n",
       "      <td>89.42</td>\n",
       "      <td>0.20</td>\n",
       "    </tr>\n",
       "    <tr>\n",
       "      <th>E</th>\n",
       "      <td>79.05</td>\n",
       "      <td>0.18</td>\n",
       "    </tr>\n",
       "    <tr>\n",
       "      <th>E10+</th>\n",
       "      <td>54.24</td>\n",
       "      <td>0.12</td>\n",
       "    </tr>\n",
       "    <tr>\n",
       "      <th>T</th>\n",
       "      <td>49.79</td>\n",
       "      <td>0.11</td>\n",
       "    </tr>\n",
       "  </tbody>\n",
       "</table>\n",
       "</div>"
      ],
      "text/plain": [
       "        sum_sales  ratio_sales\n",
       "rating                        \n",
       "M          165.21         0.38\n",
       "Unknow      89.42         0.20\n",
       "E           79.05         0.18\n",
       "E10+        54.24         0.12\n",
       "T           49.79         0.11"
      ]
     },
     "metadata": {},
     "output_type": "display_data"
    }
   ],
   "source": [
    "portrait(gms_last2.loc[gms_last2['north_america'] == 1], 'Северной Америки', 'na_sales')"
   ]
  },
  {
   "cell_type": "markdown",
   "id": "c72c8870",
   "metadata": {},
   "source": [
    "Жители Северной Америки предпочитают играть на платформах PS4 и XOne в жанрах Shooter и Action с рейтингом М (\"для взрослых\").  \n",
    "Доля продаж на двух платформах PS4 (35 %) и XOne (29 %) - это больше половины всех продаж в регионе.  \n",
    "Доля продаж в жанрах Shooter (28 %) и Action (26 %) также составляет больше половины всех продаж в регионе.  \n",
    "Рейтинг М превалирует в Северной Америке и составляет 34 % от всех продаж."
   ]
  },
  {
   "cell_type": "code",
   "execution_count": 53,
   "id": "9397a419",
   "metadata": {},
   "outputs": [
    {
     "name": "stdout",
     "output_type": "stream",
     "text": [
      "Портрет пользователя Европы\n",
      "\n",
      "Общая сумма продаж в регионе: 392.23\n",
      "\n",
      "Топ-5 популярных платформ:\n"
     ]
    },
    {
     "data": {
      "text/html": [
       "<div>\n",
       "<style scoped>\n",
       "    .dataframe tbody tr th:only-of-type {\n",
       "        vertical-align: middle;\n",
       "    }\n",
       "\n",
       "    .dataframe tbody tr th {\n",
       "        vertical-align: top;\n",
       "    }\n",
       "\n",
       "    .dataframe thead th {\n",
       "        text-align: right;\n",
       "    }\n",
       "</style>\n",
       "<table border=\"1\" class=\"dataframe\">\n",
       "  <thead>\n",
       "    <tr style=\"text-align: right;\">\n",
       "      <th></th>\n",
       "      <th>sum_sales</th>\n",
       "      <th>ratio_sales</th>\n",
       "    </tr>\n",
       "    <tr>\n",
       "      <th>platform</th>\n",
       "      <th></th>\n",
       "      <th></th>\n",
       "    </tr>\n",
       "  </thead>\n",
       "  <tbody>\n",
       "    <tr>\n",
       "      <th>PS4</th>\n",
       "      <td>141.09</td>\n",
       "      <td>0.36</td>\n",
       "    </tr>\n",
       "    <tr>\n",
       "      <th>PS3</th>\n",
       "      <td>67.81</td>\n",
       "      <td>0.17</td>\n",
       "    </tr>\n",
       "    <tr>\n",
       "      <th>XOne</th>\n",
       "      <td>51.59</td>\n",
       "      <td>0.13</td>\n",
       "    </tr>\n",
       "    <tr>\n",
       "      <th>X360</th>\n",
       "      <td>42.52</td>\n",
       "      <td>0.11</td>\n",
       "    </tr>\n",
       "    <tr>\n",
       "      <th>3DS</th>\n",
       "      <td>30.96</td>\n",
       "      <td>0.08</td>\n",
       "    </tr>\n",
       "  </tbody>\n",
       "</table>\n",
       "</div>"
      ],
      "text/plain": [
       "          sum_sales  ratio_sales\n",
       "platform                        \n",
       "PS4          141.09         0.36\n",
       "PS3           67.81         0.17\n",
       "XOne          51.59         0.13\n",
       "X360          42.52         0.11\n",
       "3DS           30.96         0.08"
      ]
     },
     "metadata": {},
     "output_type": "display_data"
    },
    {
     "name": "stdout",
     "output_type": "stream",
     "text": [
      "\n",
      "Топ-5 популярных жанров:\n"
     ]
    },
    {
     "data": {
      "text/html": [
       "<div>\n",
       "<style scoped>\n",
       "    .dataframe tbody tr th:only-of-type {\n",
       "        vertical-align: middle;\n",
       "    }\n",
       "\n",
       "    .dataframe tbody tr th {\n",
       "        vertical-align: top;\n",
       "    }\n",
       "\n",
       "    .dataframe thead th {\n",
       "        text-align: right;\n",
       "    }\n",
       "</style>\n",
       "<table border=\"1\" class=\"dataframe\">\n",
       "  <thead>\n",
       "    <tr style=\"text-align: right;\">\n",
       "      <th></th>\n",
       "      <th>sum_sales</th>\n",
       "      <th>ratio_sales</th>\n",
       "    </tr>\n",
       "    <tr>\n",
       "      <th>genre</th>\n",
       "      <th></th>\n",
       "      <th></th>\n",
       "    </tr>\n",
       "  </thead>\n",
       "  <tbody>\n",
       "    <tr>\n",
       "      <th>Action</th>\n",
       "      <td>118.13</td>\n",
       "      <td>0.30</td>\n",
       "    </tr>\n",
       "    <tr>\n",
       "      <th>Shooter</th>\n",
       "      <td>87.86</td>\n",
       "      <td>0.22</td>\n",
       "    </tr>\n",
       "    <tr>\n",
       "      <th>Sports</th>\n",
       "      <td>60.52</td>\n",
       "      <td>0.15</td>\n",
       "    </tr>\n",
       "    <tr>\n",
       "      <th>Role-Playing</th>\n",
       "      <td>36.97</td>\n",
       "      <td>0.09</td>\n",
       "    </tr>\n",
       "    <tr>\n",
       "      <th>Racing</th>\n",
       "      <td>20.19</td>\n",
       "      <td>0.05</td>\n",
       "    </tr>\n",
       "  </tbody>\n",
       "</table>\n",
       "</div>"
      ],
      "text/plain": [
       "              sum_sales  ratio_sales\n",
       "genre                               \n",
       "Action           118.13         0.30\n",
       "Shooter           87.86         0.22\n",
       "Sports            60.52         0.15\n",
       "Role-Playing      36.97         0.09\n",
       "Racing            20.19         0.05"
      ]
     },
     "metadata": {},
     "output_type": "display_data"
    },
    {
     "name": "stdout",
     "output_type": "stream",
     "text": [
      "\n",
      "Зависимость суммарных продаж от рейтинга:\n"
     ]
    },
    {
     "data": {
      "text/html": [
       "<div>\n",
       "<style scoped>\n",
       "    .dataframe tbody tr th:only-of-type {\n",
       "        vertical-align: middle;\n",
       "    }\n",
       "\n",
       "    .dataframe tbody tr th {\n",
       "        vertical-align: top;\n",
       "    }\n",
       "\n",
       "    .dataframe thead th {\n",
       "        text-align: right;\n",
       "    }\n",
       "</style>\n",
       "<table border=\"1\" class=\"dataframe\">\n",
       "  <thead>\n",
       "    <tr style=\"text-align: right;\">\n",
       "      <th></th>\n",
       "      <th>sum_sales</th>\n",
       "      <th>ratio_sales</th>\n",
       "    </tr>\n",
       "    <tr>\n",
       "      <th>rating</th>\n",
       "      <th></th>\n",
       "      <th></th>\n",
       "    </tr>\n",
       "  </thead>\n",
       "  <tbody>\n",
       "    <tr>\n",
       "      <th>M</th>\n",
       "      <td>145.32</td>\n",
       "      <td>0.37</td>\n",
       "    </tr>\n",
       "    <tr>\n",
       "      <th>E</th>\n",
       "      <td>83.36</td>\n",
       "      <td>0.21</td>\n",
       "    </tr>\n",
       "    <tr>\n",
       "      <th>Unknow</th>\n",
       "      <td>78.91</td>\n",
       "      <td>0.20</td>\n",
       "    </tr>\n",
       "    <tr>\n",
       "      <th>E10+</th>\n",
       "      <td>42.69</td>\n",
       "      <td>0.11</td>\n",
       "    </tr>\n",
       "    <tr>\n",
       "      <th>T</th>\n",
       "      <td>41.95</td>\n",
       "      <td>0.11</td>\n",
       "    </tr>\n",
       "  </tbody>\n",
       "</table>\n",
       "</div>"
      ],
      "text/plain": [
       "        sum_sales  ratio_sales\n",
       "rating                        \n",
       "M          145.32         0.37\n",
       "E           83.36         0.21\n",
       "Unknow      78.91         0.20\n",
       "E10+        42.69         0.11\n",
       "T           41.95         0.11"
      ]
     },
     "metadata": {},
     "output_type": "display_data"
    }
   ],
   "source": [
    "portrait(gms_last2.loc[gms_last2['europe'] == 1], 'Европы', 'eu_sales')"
   ]
  },
  {
   "cell_type": "markdown",
   "id": "2ef5b1d5",
   "metadata": {},
   "source": [
    "Жители Европы предпочитают играть на платформе PS4 в жанрах Action и Shooter с рейтингом М (\"для взрослых\").  \n",
    "Доля продаж на одной платформе PS4 составляет 36 % - треть всех продаж в регионе.\n",
    "Доля продаж в жанрах Shooter (22 %) и Action (30 %) составляет больше половины всех продаж в регионе.\n",
    "Рейтинг М превалирует в Европе и составляет 37 % от всех продаж."
   ]
  },
  {
   "cell_type": "code",
   "execution_count": 54,
   "id": "1002a61a",
   "metadata": {},
   "outputs": [
    {
     "name": "stdout",
     "output_type": "stream",
     "text": [
      "Портрет пользователя Японии\n",
      "\n",
      "Общая сумма продаж в регионе: 140.78\n",
      "\n",
      "Топ-5 популярных платформ:\n"
     ]
    },
    {
     "data": {
      "text/html": [
       "<div>\n",
       "<style scoped>\n",
       "    .dataframe tbody tr th:only-of-type {\n",
       "        vertical-align: middle;\n",
       "    }\n",
       "\n",
       "    .dataframe tbody tr th {\n",
       "        vertical-align: top;\n",
       "    }\n",
       "\n",
       "    .dataframe thead th {\n",
       "        text-align: right;\n",
       "    }\n",
       "</style>\n",
       "<table border=\"1\" class=\"dataframe\">\n",
       "  <thead>\n",
       "    <tr style=\"text-align: right;\">\n",
       "      <th></th>\n",
       "      <th>sum_sales</th>\n",
       "      <th>ratio_sales</th>\n",
       "    </tr>\n",
       "    <tr>\n",
       "      <th>platform</th>\n",
       "      <th></th>\n",
       "      <th></th>\n",
       "    </tr>\n",
       "  </thead>\n",
       "  <tbody>\n",
       "    <tr>\n",
       "      <th>3DS</th>\n",
       "      <td>67.81</td>\n",
       "      <td>0.48</td>\n",
       "    </tr>\n",
       "    <tr>\n",
       "      <th>PS3</th>\n",
       "      <td>23.35</td>\n",
       "      <td>0.17</td>\n",
       "    </tr>\n",
       "    <tr>\n",
       "      <th>PSV</th>\n",
       "      <td>18.59</td>\n",
       "      <td>0.13</td>\n",
       "    </tr>\n",
       "    <tr>\n",
       "      <th>PS4</th>\n",
       "      <td>15.96</td>\n",
       "      <td>0.11</td>\n",
       "    </tr>\n",
       "    <tr>\n",
       "      <th>WiiU</th>\n",
       "      <td>10.88</td>\n",
       "      <td>0.08</td>\n",
       "    </tr>\n",
       "  </tbody>\n",
       "</table>\n",
       "</div>"
      ],
      "text/plain": [
       "          sum_sales  ratio_sales\n",
       "platform                        \n",
       "3DS           67.81         0.48\n",
       "PS3           23.35         0.17\n",
       "PSV           18.59         0.13\n",
       "PS4           15.96         0.11\n",
       "WiiU          10.88         0.08"
      ]
     },
     "metadata": {},
     "output_type": "display_data"
    },
    {
     "name": "stdout",
     "output_type": "stream",
     "text": [
      "\n",
      "Топ-5 популярных жанров:\n"
     ]
    },
    {
     "data": {
      "text/html": [
       "<div>\n",
       "<style scoped>\n",
       "    .dataframe tbody tr th:only-of-type {\n",
       "        vertical-align: middle;\n",
       "    }\n",
       "\n",
       "    .dataframe tbody tr th {\n",
       "        vertical-align: top;\n",
       "    }\n",
       "\n",
       "    .dataframe thead th {\n",
       "        text-align: right;\n",
       "    }\n",
       "</style>\n",
       "<table border=\"1\" class=\"dataframe\">\n",
       "  <thead>\n",
       "    <tr style=\"text-align: right;\">\n",
       "      <th></th>\n",
       "      <th>sum_sales</th>\n",
       "      <th>ratio_sales</th>\n",
       "    </tr>\n",
       "    <tr>\n",
       "      <th>genre</th>\n",
       "      <th></th>\n",
       "      <th></th>\n",
       "    </tr>\n",
       "  </thead>\n",
       "  <tbody>\n",
       "    <tr>\n",
       "      <th>Role-Playing</th>\n",
       "      <td>51.04</td>\n",
       "      <td>0.36</td>\n",
       "    </tr>\n",
       "    <tr>\n",
       "      <th>Action</th>\n",
       "      <td>40.49</td>\n",
       "      <td>0.29</td>\n",
       "    </tr>\n",
       "    <tr>\n",
       "      <th>Misc</th>\n",
       "      <td>9.20</td>\n",
       "      <td>0.07</td>\n",
       "    </tr>\n",
       "    <tr>\n",
       "      <th>Fighting</th>\n",
       "      <td>7.65</td>\n",
       "      <td>0.05</td>\n",
       "    </tr>\n",
       "    <tr>\n",
       "      <th>Shooter</th>\n",
       "      <td>6.61</td>\n",
       "      <td>0.05</td>\n",
       "    </tr>\n",
       "  </tbody>\n",
       "</table>\n",
       "</div>"
      ],
      "text/plain": [
       "              sum_sales  ratio_sales\n",
       "genre                               \n",
       "Role-Playing      51.04         0.36\n",
       "Action            40.49         0.29\n",
       "Misc               9.20         0.07\n",
       "Fighting           7.65         0.05\n",
       "Shooter            6.61         0.05"
      ]
     },
     "metadata": {},
     "output_type": "display_data"
    },
    {
     "name": "stdout",
     "output_type": "stream",
     "text": [
      "\n",
      "Зависимость суммарных продаж от рейтинга:\n"
     ]
    },
    {
     "data": {
      "text/html": [
       "<div>\n",
       "<style scoped>\n",
       "    .dataframe tbody tr th:only-of-type {\n",
       "        vertical-align: middle;\n",
       "    }\n",
       "\n",
       "    .dataframe tbody tr th {\n",
       "        vertical-align: top;\n",
       "    }\n",
       "\n",
       "    .dataframe thead th {\n",
       "        text-align: right;\n",
       "    }\n",
       "</style>\n",
       "<table border=\"1\" class=\"dataframe\">\n",
       "  <thead>\n",
       "    <tr style=\"text-align: right;\">\n",
       "      <th></th>\n",
       "      <th>sum_sales</th>\n",
       "      <th>ratio_sales</th>\n",
       "    </tr>\n",
       "    <tr>\n",
       "      <th>rating</th>\n",
       "      <th></th>\n",
       "      <th></th>\n",
       "    </tr>\n",
       "  </thead>\n",
       "  <tbody>\n",
       "    <tr>\n",
       "      <th>Unknow</th>\n",
       "      <td>85.05</td>\n",
       "      <td>0.60</td>\n",
       "    </tr>\n",
       "    <tr>\n",
       "      <th>T</th>\n",
       "      <td>20.59</td>\n",
       "      <td>0.15</td>\n",
       "    </tr>\n",
       "    <tr>\n",
       "      <th>E</th>\n",
       "      <td>15.14</td>\n",
       "      <td>0.11</td>\n",
       "    </tr>\n",
       "    <tr>\n",
       "      <th>M</th>\n",
       "      <td>14.11</td>\n",
       "      <td>0.10</td>\n",
       "    </tr>\n",
       "    <tr>\n",
       "      <th>E10+</th>\n",
       "      <td>5.89</td>\n",
       "      <td>0.04</td>\n",
       "    </tr>\n",
       "  </tbody>\n",
       "</table>\n",
       "</div>"
      ],
      "text/plain": [
       "        sum_sales  ratio_sales\n",
       "rating                        \n",
       "Unknow      85.05         0.60\n",
       "T           20.59         0.15\n",
       "E           15.14         0.11\n",
       "M           14.11         0.10\n",
       "E10+         5.89         0.04"
      ]
     },
     "metadata": {},
     "output_type": "display_data"
    }
   ],
   "source": [
    "portrait(gms_last2.loc[gms_last2['japan'] == 1], 'Японии', 'jp_sales')"
   ]
  },
  {
   "cell_type": "markdown",
   "id": "97de9c4b",
   "metadata": {},
   "source": [
    "В Японии предпочтения значительно отличаются от предпочтений жителей Запада.\n",
    "Жители Японии предпочитают играть на платформе 3DS в жанрах Role-Playing и Action.  \n",
    "При этом доля самой популярной платформы составляет почти половину (48 %) от общего объёма продаж, а самые популярные у японцев жанры составляют вместе 2/3 от общего объема продаж: Role-Playing - 36%, Action - 29 %.  \n",
    "Выделились жители Японии и рейтингами: самый популярный рейтинг \"Unknow\" занимает 60 % от общего объёма продаж. Судя по большому проценту игр с отсутствующим рейтингом в Японии приняты иные рейтинги, отличные от ESRB."
   ]
  },
  {
   "cell_type": "code",
   "execution_count": 55,
   "id": "92772435",
   "metadata": {
    "scrolled": false
   },
   "outputs": [
    {
     "name": "stdout",
     "output_type": "stream",
     "text": [
      "Портрет пользователя других регионов\n",
      "\n",
      "Общая сумма продаж в регионе: 119.97\n",
      "\n",
      "Топ-5 популярных платформ:\n"
     ]
    },
    {
     "data": {
      "text/html": [
       "<div>\n",
       "<style scoped>\n",
       "    .dataframe tbody tr th:only-of-type {\n",
       "        vertical-align: middle;\n",
       "    }\n",
       "\n",
       "    .dataframe tbody tr th {\n",
       "        vertical-align: top;\n",
       "    }\n",
       "\n",
       "    .dataframe thead th {\n",
       "        text-align: right;\n",
       "    }\n",
       "</style>\n",
       "<table border=\"1\" class=\"dataframe\">\n",
       "  <thead>\n",
       "    <tr style=\"text-align: right;\">\n",
       "      <th></th>\n",
       "      <th>sum_sales</th>\n",
       "      <th>ratio_sales</th>\n",
       "    </tr>\n",
       "    <tr>\n",
       "      <th>platform</th>\n",
       "      <th></th>\n",
       "      <th></th>\n",
       "    </tr>\n",
       "  </thead>\n",
       "  <tbody>\n",
       "    <tr>\n",
       "      <th>PS4</th>\n",
       "      <td>48.35</td>\n",
       "      <td>0.40</td>\n",
       "    </tr>\n",
       "    <tr>\n",
       "      <th>PS3</th>\n",
       "      <td>26.77</td>\n",
       "      <td>0.22</td>\n",
       "    </tr>\n",
       "    <tr>\n",
       "      <th>XOne</th>\n",
       "      <td>14.27</td>\n",
       "      <td>0.12</td>\n",
       "    </tr>\n",
       "    <tr>\n",
       "      <th>X360</th>\n",
       "      <td>12.11</td>\n",
       "      <td>0.10</td>\n",
       "    </tr>\n",
       "    <tr>\n",
       "      <th>3DS</th>\n",
       "      <td>6.28</td>\n",
       "      <td>0.05</td>\n",
       "    </tr>\n",
       "  </tbody>\n",
       "</table>\n",
       "</div>"
      ],
      "text/plain": [
       "          sum_sales  ratio_sales\n",
       "platform                        \n",
       "PS4           48.35         0.40\n",
       "PS3           26.77         0.22\n",
       "XOne          14.27         0.12\n",
       "X360          12.11         0.10\n",
       "3DS            6.28         0.05"
      ]
     },
     "metadata": {},
     "output_type": "display_data"
    },
    {
     "name": "stdout",
     "output_type": "stream",
     "text": [
      "\n",
      "Топ-5 популярных жанров:\n"
     ]
    },
    {
     "data": {
      "text/html": [
       "<div>\n",
       "<style scoped>\n",
       "    .dataframe tbody tr th:only-of-type {\n",
       "        vertical-align: middle;\n",
       "    }\n",
       "\n",
       "    .dataframe tbody tr th {\n",
       "        vertical-align: top;\n",
       "    }\n",
       "\n",
       "    .dataframe thead th {\n",
       "        text-align: right;\n",
       "    }\n",
       "</style>\n",
       "<table border=\"1\" class=\"dataframe\">\n",
       "  <thead>\n",
       "    <tr style=\"text-align: right;\">\n",
       "      <th></th>\n",
       "      <th>sum_sales</th>\n",
       "      <th>ratio_sales</th>\n",
       "    </tr>\n",
       "    <tr>\n",
       "      <th>genre</th>\n",
       "      <th></th>\n",
       "      <th></th>\n",
       "    </tr>\n",
       "  </thead>\n",
       "  <tbody>\n",
       "    <tr>\n",
       "      <th>Action</th>\n",
       "      <td>37.20</td>\n",
       "      <td>0.31</td>\n",
       "    </tr>\n",
       "    <tr>\n",
       "      <th>Shooter</th>\n",
       "      <td>28.77</td>\n",
       "      <td>0.24</td>\n",
       "    </tr>\n",
       "    <tr>\n",
       "      <th>Sports</th>\n",
       "      <td>19.45</td>\n",
       "      <td>0.16</td>\n",
       "    </tr>\n",
       "    <tr>\n",
       "      <th>Role-Playing</th>\n",
       "      <td>11.48</td>\n",
       "      <td>0.10</td>\n",
       "    </tr>\n",
       "    <tr>\n",
       "      <th>Misc</th>\n",
       "      <td>6.09</td>\n",
       "      <td>0.05</td>\n",
       "    </tr>\n",
       "  </tbody>\n",
       "</table>\n",
       "</div>"
      ],
      "text/plain": [
       "              sum_sales  ratio_sales\n",
       "genre                               \n",
       "Action            37.20         0.31\n",
       "Shooter           28.77         0.24\n",
       "Sports            19.45         0.16\n",
       "Role-Playing      11.48         0.10\n",
       "Misc               6.09         0.05"
      ]
     },
     "metadata": {},
     "output_type": "display_data"
    },
    {
     "name": "stdout",
     "output_type": "stream",
     "text": [
      "\n",
      "Зависимость суммарных продаж от рейтинга:\n"
     ]
    },
    {
     "data": {
      "text/html": [
       "<div>\n",
       "<style scoped>\n",
       "    .dataframe tbody tr th:only-of-type {\n",
       "        vertical-align: middle;\n",
       "    }\n",
       "\n",
       "    .dataframe tbody tr th {\n",
       "        vertical-align: top;\n",
       "    }\n",
       "\n",
       "    .dataframe thead th {\n",
       "        text-align: right;\n",
       "    }\n",
       "</style>\n",
       "<table border=\"1\" class=\"dataframe\">\n",
       "  <thead>\n",
       "    <tr style=\"text-align: right;\">\n",
       "      <th></th>\n",
       "      <th>sum_sales</th>\n",
       "      <th>ratio_sales</th>\n",
       "    </tr>\n",
       "    <tr>\n",
       "      <th>rating</th>\n",
       "      <th></th>\n",
       "      <th></th>\n",
       "    </tr>\n",
       "  </thead>\n",
       "  <tbody>\n",
       "    <tr>\n",
       "      <th>M</th>\n",
       "      <td>47.04</td>\n",
       "      <td>0.39</td>\n",
       "    </tr>\n",
       "    <tr>\n",
       "      <th>Unknow</th>\n",
       "      <td>23.46</td>\n",
       "      <td>0.20</td>\n",
       "    </tr>\n",
       "    <tr>\n",
       "      <th>E</th>\n",
       "      <td>22.61</td>\n",
       "      <td>0.19</td>\n",
       "    </tr>\n",
       "    <tr>\n",
       "      <th>T</th>\n",
       "      <td>14.29</td>\n",
       "      <td>0.12</td>\n",
       "    </tr>\n",
       "    <tr>\n",
       "      <th>E10+</th>\n",
       "      <td>12.57</td>\n",
       "      <td>0.10</td>\n",
       "    </tr>\n",
       "  </tbody>\n",
       "</table>\n",
       "</div>"
      ],
      "text/plain": [
       "        sum_sales  ratio_sales\n",
       "rating                        \n",
       "M           47.04         0.39\n",
       "Unknow      23.46         0.20\n",
       "E           22.61         0.19\n",
       "T           14.29         0.12\n",
       "E10+        12.57         0.10"
      ]
     },
     "metadata": {},
     "output_type": "display_data"
    }
   ],
   "source": [
    "portrait(gms_last2.loc[gms_last2['other_reg'] == 1], 'других регионов', 'other_sales')"
   ]
  },
  {
   "cell_type": "markdown",
   "id": "4d096681",
   "metadata": {},
   "source": [
    "Жители других регионов близки по своим предпочтениям к жителям Европы: они предпочитают играть на платформе PS4 (доля продаж - 40 %) в жанрах Action (31 % от всех продаж) и Shooter (24 % от всех продаж) с рейтингом М (\"для взрослых\") (39 % от всех продаж в регионе)."
   ]
  },
  {
   "cell_type": "markdown",
   "id": "e8045a94",
   "metadata": {},
   "source": [
    "Визуализировать выводы можно следующим образом:"
   ]
  },
  {
   "cell_type": "code",
   "execution_count": 56,
   "id": "0261855f",
   "metadata": {},
   "outputs": [],
   "source": [
    "# функция для визуализации каждого из сравниваемых параметров - платформа, жанр, рейтинг -\n",
    "# по каждому региону - Северная Америка, Европа, Япония\n",
    "\n",
    "def pies(par, name):\n",
    "    fig, axs = plt.subplots(1, 3, figsize=(15, 5))\n",
    "    fig.suptitle(name, fontsize=15)\n",
    "    dfs = {}\n",
    "    for i, region in enumerate(['na_sales', 'eu_sales', 'jp_sales']):\n",
    "      # Выберем 5 самых продающих платформ\n",
    "      df = (gms_last2.groupby(par)[region].sum().\n",
    "                 reset_index().\n",
    "                 sort_values(region, ascending=False).\n",
    "                 head(5))\n",
    "      # Нарисуем часть графика\n",
    "      axs[i].pie(df[region],\n",
    "                 labels=df[par])\n",
    "      # Зададим название региона.\n",
    "      axs[i].set_title(df.columns[1][:2].upper())\n",
    "    plt.show()"
   ]
  },
  {
   "cell_type": "code",
   "execution_count": 57,
   "id": "dfcb5efc",
   "metadata": {},
   "outputs": [
    {
     "data": {
      "image/png": "[encoded data removed]",
      "text/plain": [
       "<Figure size 1080x360 with 3 Axes>"
      ]
     },
     "metadata": {},
     "output_type": "display_data"
    }
   ],
   "source": [
    "pies('platform', 'ТОП-5 платформ в регионах')"
   ]
  },
  {
   "cell_type": "code",
   "execution_count": 58,
   "id": "6a1ac633",
   "metadata": {},
   "outputs": [
    {
     "data": {
      "image/png": "[encoded data removed]",
      "text/plain": [
       "<Figure size 1080x360 with 3 Axes>"
      ]
     },
     "metadata": {},
     "output_type": "display_data"
    }
   ],
   "source": [
    "pies('genre', 'ТОП-5 жанров в регионах')"
   ]
  },
  {
   "cell_type": "code",
   "execution_count": 59,
   "id": "c7d46ef6",
   "metadata": {},
   "outputs": [
    {
     "data": {
      "image/png": "[encoded data removed]",
      "text/plain": [
       "<Figure size 1080x360 with 3 Axes>"
      ]
     },
     "metadata": {},
     "output_type": "display_data"
    }
   ],
   "source": [
    "pies('rating', 'ТОП-5 рейтингов в регионах')"
   ]
  },
  {
   "cell_type": "markdown",
   "id": "a2d15229",
   "metadata": {},
   "source": [
    "### Вывод"
   ]
  },
  {
   "cell_type": "markdown",
   "id": "04a311fa",
   "metadata": {},
   "source": [
    "Жители Северной Америки предпочитают играть на платформах PS4 и XOne в жанрах Shooter и Action с рейтингом М (\"для взрослых\"). Доля продаж на двух платформах PS4 (35 %) и XOne (29 %) - это больше половины всех продаж в регионе. Доля продаж в жанрах Shooter (28 %) и Action (26 %) также составляет больше половины всех продаж в регионе. Рейтинг М превалирует в Северной Америке и составляет 34 % от всех продаж.  \n",
    "\n",
    "*Жители Европы и других регионов близки по своим предпочтениям:*  \n",
    "В Европе предпочитают играть на платформе PS4 в жанрах Action и Shooter с рейтингом М (\"для взрослых\"). Доля продаж на одной платформе PS4 составляет 36 % - треть всех продаж в регионе. Доля продаж в жанрах Shooter (22 %) и Action (30 %) составляет больше половины всех продаж в регионе. Рейтинг М превалирует в Европе и составляет 37 % от всех продаж.  \n",
    "В других регионах показатели те же, с небольшой разницей в долях: популярность платформы PS4 - 40 %, жанры Action - 31 %, Shooter - 24 %, рейтингом М (\"для взрослых\") - 39 % от всех продаж в регионе.  \n",
    "\n",
    "**В Японии предпочтения значительно отличаются от предпочтений жителей Запада.** Жители Японии предпочитают играть на платформе 3DS в жанрах Role-Playing и Action. При этом доля самой популярной платформы составляет почти половину (48 %) от общего объёма продаж, а самые популярные у японцев жанры составляют вместе 2/3 от общего объема продаж: Role-Playing - 36%, Action - 29 %.\n",
    "Выделились жители Японии и рейтингами: самый популярный рейтинг \"Unknow\" занимает 60 % от общего объёма продаж. Судя по большому проценту игр с отсутствующим рейтингом в Японии приняты иные рейтинги, отличные от ESRB.\n",
    "\n",
    "Проведённое исследование портретов жителей регионов показало, что на объем продаж оказывает влияние в том числе и рейтинг игр. Игры с неизвестным рейтингом приносят Японии 60 % всех продаж страны, тогда как на Западе рейтинг M приносит 34-39 % об общего объёма продаж. Однако в целом общий объём продаж в Японии (140 млн.копий) ниже, чем объём продаж в Северной Америке (284 млн.копий) и в Европе (392 млн.копий)."
   ]
  },
  {
   "cell_type": "markdown",
   "id": "fb5b9825",
   "metadata": {},
   "source": [
    "## Проверка гипотез"
   ]
  },
  {
   "cell_type": "markdown",
   "id": "5ae8024f",
   "metadata": {},
   "source": [
    "•\tСредние пользовательские рейтинги платформ Xbox One и PC одинаковые;  \n",
    "•\tСредние пользовательские рейтинги жанров Action (англ. «действие», экшен-игры) и Sports (англ. «спортивные соревнования») разные."
   ]
  },
  {
   "cell_type": "markdown",
   "id": "a285082a",
   "metadata": {},
   "source": [
    "### Расчёт дисперсии пользовательских рейтингов"
   ]
  },
  {
   "cell_type": "markdown",
   "id": "982d5c84",
   "metadata": {},
   "source": [
    "Для определения значения параметра equal_var при проверке гипотез сперва проверим, равны ли дисперсии между собой"
   ]
  },
  {
   "cell_type": "code",
   "execution_count": 60,
   "id": "e8f7f18e",
   "metadata": {},
   "outputs": [
    {
     "name": "stdout",
     "output_type": "stream",
     "text": [
      "Дисперсия пользовательского рейтинга\n",
      "    \"Xbox One\": 1.91\n",
      "    \"PC\": 3.04\n",
      "Дисперсия \"PC\" выше дисперсии \"Xbox One\" в 1.6 раз.\n"
     ]
    }
   ],
   "source": [
    "xone = gms_last2[gms_last2['platform'] == 'XOne']\n",
    "pc = gms_last2[gms_last2['platform'] == 'PC']\n",
    "\n",
    "print('Дисперсия пользовательского рейтинга')\n",
    "print('   ', '\"Xbox One\":', \\\n",
    "      round(np.var(xone['user_score'], ddof=1), 2))\n",
    "\n",
    "print('   ', '\"PC\":', \\\n",
    "      round(np.var(pc['user_score'], ddof=1), 2))\n",
    "\n",
    "if np.var(xone['user_score'], ddof=1) > np.var(pc['user_score'], ddof=1):\n",
    "    print('Дисперсия \"Xbox One\" выше дисперсии \"PC\" в', \n",
    "          round(np.var(xone['user_score'], ddof=1)/np.var(pc['user_score'], ddof=1), 1), \n",
    "          'раз.')\n",
    "else:\n",
    "    print('Дисперсия \"PC\" выше дисперсии \"Xbox One\" в', \n",
    "          round(np.var(pc['user_score'], ddof=1)/np.var(xone['user_score'], ddof=1), 1), \n",
    "          'раз.')"
   ]
  },
  {
   "cell_type": "code",
   "execution_count": 61,
   "id": "851134d4",
   "metadata": {
    "scrolled": true
   },
   "outputs": [
    {
     "name": "stdout",
     "output_type": "stream",
     "text": [
      "Дисперсия пользовательского рейтинга\n",
      "    \"Action\": 1.77\n",
      "    \"Sports\": 3.18\n",
      "Дисперсия \"Sports\" выше дисперсии \"Action\" в 1.8 раз.\n"
     ]
    }
   ],
   "source": [
    "action = gms_last2[gms_last2['genre'] == 'Action']\n",
    "sports = gms_last2[gms_last2['genre'] == 'Sports']\n",
    "\n",
    "print('Дисперсия пользовательского рейтинга')\n",
    "print('   ', '\"Action\":', \\\n",
    "      round(np.var(action['user_score'], ddof=1), 2))\n",
    "\n",
    "print('   ', '\"Sports\":', \\\n",
    "      round(np.var(sports['user_score'], ddof=1), 2))\n",
    "\n",
    "if np.var(action['user_score'], ddof=1) > np.var(sports['user_score'], ddof=1):\n",
    "    print('Дисперсия \"Action\" выше дисперсии \"Sports\" в', \n",
    "          round(np.var(action['user_score'], ddof=1)/np.var(sports['user_score'], ddof=1), 1), \n",
    "          'раз.')\n",
    "else:\n",
    "    print('Дисперсия \"Sports\" выше дисперсии \"Action\" в', \n",
    "          round(np.var(sports['user_score'], ddof=1)/np.var(action['user_score'], ddof=1), 1), \n",
    "          'раз.')"
   ]
  },
  {
   "cell_type": "markdown",
   "id": "65ca2276",
   "metadata": {},
   "source": [
    "Дисперсии не равны ни в сравнении платформ Xbox One и PC, ни в сравнении жанров Action и Sports. Следовательно, при проверке гипотез применим параметр equal_var=False."
   ]
  },
  {
   "cell_type": "markdown",
   "id": "60f49f04",
   "metadata": {},
   "source": [
    "### Гипотеза № 1: Средние пользовательские рейтинги платформ Xbox One и PC"
   ]
  },
  {
   "cell_type": "markdown",
   "id": "d1c55ac7",
   "metadata": {},
   "source": [
    "Сформулируем гипотезы:  \n",
    "\n",
    "- **нулевая гипотеза:** Средние пользовательские рейтинги платформ Xbox One и PC одинаковые  \n",
    "- **альтернативная гипотеза:** Средние пользовательские рейтинги платформ Xbox One и PC разные"
   ]
  },
  {
   "cell_type": "code",
   "execution_count": 62,
   "id": "d51c3d7c",
   "metadata": {},
   "outputs": [
    {
     "name": "stdout",
     "output_type": "stream",
     "text": [
      "p-значение: 0.1475959401343032\n",
      "Не получилось отвергнуть нулевую гипотезу о равенстве cредних пользовательских рейтингов платформ Xbox One и PC.\n"
     ]
    }
   ],
   "source": [
    "alpha = 0.01\n",
    "\n",
    "xone = gms_last2[gms_last2['platform'] == 'XOne']\n",
    "pc = gms_last2[gms_last2['platform'] == 'PC']\n",
    "\n",
    "xone_score = xone['user_score']\n",
    "pc_score = pc['user_score']\n",
    "\n",
    "results = st.ttest_ind(xone_score, pc_score, equal_var=False, nan_policy='omit')\n",
    "\n",
    "print('p-значение:', results.pvalue)\n",
    "\n",
    "if results.pvalue < alpha:\n",
    "    print(\"Отвергаем нулевую гипотезу: cредние пользовательские рейтинги платформ Xbox One и PC разные.\")\n",
    "else:\n",
    "    print(\"Не получилось отвергнуть нулевую гипотезу о равенстве cредних пользовательских рейтингов платформ Xbox One и PC.\")"
   ]
  },
  {
   "cell_type": "markdown",
   "id": "34570f6d",
   "metadata": {},
   "source": [
    "#### Вывод"
   ]
  },
  {
   "cell_type": "markdown",
   "id": "8480af6f",
   "metadata": {},
   "source": [
    "Для проверки гипотез мы применили t-тест методом scipy.stats.ttest_ind() из библиотеки scipy.\n",
    "Критический уровень статистической значимости alpha приняли в качестве 0.01. Но и при более мягком уровне этого критерия в 0.05 результат был бы аналогичным.\n",
    "Также мы применили параметр equal_var=False, поскольку нам уже известно, что выборки отличаются по дисперсии. Это достаточный повод, чтобы посчитать выборочные дисперсии по отдельности и указать, что они не равны.\n",
    "\n",
    "По результатам проведённого t-теста не получилось отвергнуть нулевую гипотезу о равенстве cредних пользовательских рейтингов платформ Xbox One и PC."
   ]
  },
  {
   "cell_type": "markdown",
   "id": "43062433",
   "metadata": {},
   "source": [
    "### Гипотеза № 2: Средние пользовательские рейтинги жанров Action и Sports"
   ]
  },
  {
   "cell_type": "markdown",
   "id": "f06eeb92",
   "metadata": {},
   "source": [
    "Сформулируем гипотезы:  \n",
    "\n",
    "- **нулевая гипотеза:** Средние пользовательские рейтинги жанров Action и Sports одинаковые  \n",
    "- **альтернативная гипотеза:** Средние пользовательские рейтинги жанров Action и Sports разные"
   ]
  },
  {
   "cell_type": "code",
   "execution_count": 63,
   "id": "5dccf161",
   "metadata": {},
   "outputs": [
    {
     "name": "stdout",
     "output_type": "stream",
     "text": [
      "p-значение: 1.4460039700703482e-20\n",
      "Отвергаем нулевую гипотезу: cредние пользовательские рейтинги рейтинги жанров Action и Sports разные.\n"
     ]
    }
   ],
   "source": [
    "alpha = 0.01\n",
    "\n",
    "action = gms_last2[gms_last2['genre'] == 'Action']\n",
    "sports = gms_last2[gms_last2['genre'] == 'Sports']\n",
    "\n",
    "action_score = action['user_score']\n",
    "sports_score = sports['user_score']\n",
    "\n",
    "results = st.ttest_ind(action_score, sports_score, equal_var=False, nan_policy='omit')\n",
    "\n",
    "print('p-значение:', results.pvalue)\n",
    "\n",
    "if results.pvalue < alpha:\n",
    "    print(\"Отвергаем нулевую гипотезу: cредние пользовательские рейтинги рейтинги жанров Action и Sports разные.\")\n",
    "else:\n",
    "    print(\"Не получилось отвергнуть нулевую гипотезу о равенстве cредних пользовательских рейтингов жанров Action и Sports.\")"
   ]
  },
  {
   "cell_type": "markdown",
   "id": "db432e44",
   "metadata": {},
   "source": [
    "#### Вывод"
   ]
  },
  {
   "cell_type": "markdown",
   "id": "1fb5e960",
   "metadata": {},
   "source": [
    "Для проверки гипотез мы применили t-тест методом scipy.stats.ttest_ind() из библиотеки scipy. Критический уровень статистической значимости alpha приняли в качестве 0.01. Но и при более мягком уровне этого критерия в 0.05 результат был бы аналогичным. Также мы применили параметр equal_var=False, поскольку нам уже известно, что выборки отличаются по дисперсии. Это достаточный повод, чтобы посчитать выборочные дисперсии по отдельности и указать, что они не равны.\n",
    "\n",
    "По результатам проведённого t-теста мы отвергли нулевую гипотезу: cредние пользовательские рейтинги рейтинги жанров Action и Sports оказались разными."
   ]
  },
  {
   "cell_type": "markdown",
   "id": "f26feb8b",
   "metadata": {},
   "source": [
    "### Вывод"
   ]
  },
  {
   "cell_type": "markdown",
   "id": "b7020631",
   "metadata": {},
   "source": [
    "Резюмируя проверки двух гипотез, можно говорить о следующем:  \n",
    "- Средние пользовательские рейтинги платформ Xbox One и PC одинаковые.  \n",
    "- Средние пользовательские рейтинги жанров Action и Sports разные."
   ]
  },
  {
   "cell_type": "markdown",
   "id": "a2755749",
   "metadata": {},
   "source": [
    "## Общий вывод"
   ]
  },
  {
   "cell_type": "markdown",
   "id": "6312e830",
   "metadata": {},
   "source": [
    "***По результатам проведённого анализ мы пришли к следующим выводам:***\n",
    "\n",
    "1. Самое большое количество игр было выпущено в 2008-2009 годах - 1427 и 1426 штук соответственно. При этом до 2008 года наблюдался активный рост в количестве выпускаемых игр. Однако после 2009 года, количество выпускаемых игр снизилось в 1,5 раза (с 1426 штук до 502).\n",
    "\n",
    "2. Средний срок \"жизни\" платформы - около 10 лет. За это время она появляется, стремительно растёт, достигает пика продаж, а потом исчезает. В период с 2004 по 2010 появилось самое большое количество новых платформ - DS, PS3, Wii и X360.\n",
    "\n",
    "3. Самой продаваемой платформой за все время является PS2. Однако она \"прожила\" лишь до 2011 года. Вероятно это связано с ростом популярности её преемника PS3 и прямого конкурента - X360. Таким образом, лидер по количеству продаж должен определяться лишь в контексте определённого периода.\n",
    "\n",
    "4. За актуальный для целей исследования период мы приняли последние 4 года: с 2013 по 2016 гг. ввиду динамичности развития игровой индустрии и заметных тенденций к спаду продаж в этот период.\n",
    "\n",
    "5. В период с 2013-2016 гг. все платформы стали терять продажи. Но среди них есть те, чьи графики стремительно идут вниз весь актуальный период (PS3, X360), а есть те, у которых график \"стабильно волнообразный\" и в 2016 году показывает высокие продажи по сравнению с остальными - это PS4, XOne и 3DS. Причём снижение популярности PS3 относительно PS4 и X360 относительно XOne объясняется тем, что PS4 и XOne - новые модели PS3 и X360 соответственно. Остальные платформы имеют стабильно низкие продажи, поэтому их в число популярных не берём.\n",
    "\n",
    "6. Внутри каждой из платформ есть лидирующие игры, у которых доля продаж (до 5-10 %) влияет на общее распределение продаж всех игр, чем объясняется смещённая медиана, большие \"усы\" и выборосы в диаграммах размаха.\n",
    "\n",
    "7. На платформах PS4 и XOne между отзывами критиков и продажами имеется прямая связь средней силы (корреляция 0,406 и 0,416 соответственно), тогда как между отзывами пользователей и продажами связи нет (корреляция -0,03 и - 0,06 соответственно). Корреляция между отзывами критиков и пользователей и продажами на платформе 3DS несколько отличается: между отзывами критиков и продажами имеется слабая прямая связь (корреляция 0,35), равно как между отзывами пользователей и продажами (корреляция 0,24).  \n",
    "\n",
    "8. Самым \"продаваемым\" жанром по медианным продажам является Shooter (45 млн. копий), на втором месте с отрывом почти в 2 раза - Sports (24 млн. копий) и Platform (22 млн. копий). Остальные жанры значительно уступают лидерам. Самый малопродаваемый жанр - Adventure (3 млн. копий).\n",
    "\n",
    "\n",
    "9. Был проведён анализ портретов пользователей каждого из регионов продаж, в результате чего выяснилось следующее:  \n",
    "\n",
    "    9.1. Жители Северной Америки предпочитают играть на платформах PS4 и XOne в жанрах Shooter и Action с рейтингом М (\"для взрослых\"). Доля продаж на двух платформах PS4 (35 %) и XOne (29 %) - это больше половины всех продаж в регионе. Доля продаж в жанрах Shooter (28 %) и Action (26 %) также составляет больше половины всех продаж в регионе. Рейтинг М превалирует в Северной Америке и составляет 34 % от всех продаж.\n",
    "\n",
    "    9.2. Жители Европы и других регионов близки по своим предпочтениям:\n",
    "    - В Европе предпочитают играть на платформе PS4 в жанрах Action и Shooter с рейтингом М (\"для взрослых\"). Доля продаж на одной платформе PS4 составляет 36 % - треть всех продаж в регионе. Доля продаж в жанрах Shooter (22 %) и Action (30 %) составляет больше половины всех продаж в регионе. Рейтинг М превалирует в Европе и составляет 37 % от всех продаж.\n",
    "    - В других регионах показатели те же, с небольшой разницей в долях: популярность платформы PS4 - 40 %, жанры Action - 31 %, Shooter - 24 %, рейтингом М (\"для взрослых\") - 39 % от всех продаж в регионе.\n",
    "\n",
    "    9.3. Жители Японии предпочитают играть на платформе 3DS в жанрах Role-Playing и Action. При этом доля самой популярной платформы составляет почти половину (48 %) от общего объёма продаж, а самые популярные у японцев жанры составляют вместе 2/3 от общего объема продаж: Role-Playing - 36%, Action - 29 %. Выделились жители Японии и рейтингами: самый популярный рейтинг \"Unknow\" занимает 60 % от общего объёма продаж. Судя по большому проценту игр с отсутствующим рейтингом в Японии приняты иные рейтинги, отличные от ESRB.\n",
    "\n",
    "    9.4. Проведённое исследование портретов жителей регионов показало, что на объем продаж оказывает влияние в том числе и рейтинг игр. Игры с неизвестным рейтингом приносят Японии 60 % всех продаж страны, тогда как на Западе рейтинг M приносит 34-39 % об общего объёма продаж. Однако в целом общий объём продаж в Японии (140 млн.копий) ниже, чем объём продаж в Северной Америке (284 млн.копий) и в Европе (392 млн.копий).  \n",
    "\n",
    "\n",
    "10. Были выдвинуты две гипотезы, в результате проверки каждой из которых выяснилось следующее:  \n",
    "    - Средние пользовательские рейтинги платформ Xbox One и PC одинаковые.  \n",
    "    - Средние пользовательские рейтинги жанров Action и Sports разные."
   ]
  }
 ],
 "metadata": {
  "ExecuteTimeLog": [
   {
    "duration": 590,
    "start_time": "2022-03-24T11:12:36.616Z"
   },
   {
    "duration": 6,
    "start_time": "2022-03-24T11:12:37.209Z"
   },
   {
    "duration": 385,
    "start_time": "2022-03-24T11:12:37.217Z"
   },
   {
    "duration": 713,
    "start_time": "2022-03-24T11:12:37.606Z"
   },
   {
    "duration": 4,
    "start_time": "2022-03-24T11:12:38.322Z"
   },
   {
    "duration": 6,
    "start_time": "2022-03-24T11:12:38.329Z"
   },
   {
    "duration": 5,
    "start_time": "2022-03-24T11:12:38.337Z"
   },
   {
    "duration": 5,
    "start_time": "2022-03-24T11:12:38.368Z"
   },
   {
    "duration": 6,
    "start_time": "2022-03-24T11:12:38.376Z"
   },
   {
    "duration": 98,
    "start_time": "2022-03-24T11:12:38.386Z"
   },
   {
    "duration": 23,
    "start_time": "2022-03-24T11:12:38.486Z"
   },
   {
    "duration": 24,
    "start_time": "2022-03-24T11:12:38.512Z"
   },
   {
    "duration": 22,
    "start_time": "2022-03-24T11:12:38.568Z"
   },
   {
    "duration": 6,
    "start_time": "2022-03-24T11:12:38.592Z"
   },
   {
    "duration": 19,
    "start_time": "2022-03-24T11:12:38.601Z"
   },
   {
    "duration": 46,
    "start_time": "2022-03-24T11:12:38.622Z"
   },
   {
    "duration": 7,
    "start_time": "2022-03-24T11:12:38.671Z"
   },
   {
    "duration": 11,
    "start_time": "2022-03-24T11:12:38.680Z"
   },
   {
    "duration": 14,
    "start_time": "2022-03-24T11:12:38.693Z"
   },
   {
    "duration": 19,
    "start_time": "2022-03-24T11:12:38.710Z"
   },
   {
    "duration": 30,
    "start_time": "2022-03-24T11:12:38.766Z"
   },
   {
    "duration": 6,
    "start_time": "2022-03-24T11:12:38.798Z"
   },
   {
    "duration": 64,
    "start_time": "2022-03-24T11:12:38.807Z"
   },
   {
    "duration": 7,
    "start_time": "2022-03-24T11:12:38.874Z"
   },
   {
    "duration": 12,
    "start_time": "2022-03-24T11:12:38.883Z"
   },
   {
    "duration": 9,
    "start_time": "2022-03-24T11:12:38.898Z"
   },
   {
    "duration": 18,
    "start_time": "2022-03-24T11:12:38.909Z"
   },
   {
    "duration": 8,
    "start_time": "2022-03-24T11:12:38.969Z"
   },
   {
    "duration": 678,
    "start_time": "2022-03-24T11:12:38.979Z"
   },
   {
    "duration": 22,
    "start_time": "2022-03-24T11:12:39.659Z"
   },
   {
    "duration": 10,
    "start_time": "2022-03-24T11:12:39.683Z"
   },
   {
    "duration": 346,
    "start_time": "2022-03-24T11:12:39.695Z"
   },
   {
    "duration": 305,
    "start_time": "2022-03-24T11:12:40.043Z"
   },
   {
    "duration": 569,
    "start_time": "2022-03-24T11:12:40.350Z"
   },
   {
    "duration": 13,
    "start_time": "2022-03-24T11:12:40.921Z"
   },
   {
    "duration": 507,
    "start_time": "2022-03-24T11:12:40.937Z"
   },
   {
    "duration": 331,
    "start_time": "2022-03-24T11:12:41.446Z"
   },
   {
    "duration": 31,
    "start_time": "2022-03-24T11:12:41.779Z"
   },
   {
    "duration": 519,
    "start_time": "2022-03-24T11:12:41.813Z"
   },
   {
    "duration": 34,
    "start_time": "2022-03-24T11:12:42.335Z"
   },
   {
    "duration": 10,
    "start_time": "2022-03-24T11:12:42.371Z"
   },
   {
    "duration": 304,
    "start_time": "2022-03-24T11:12:42.384Z"
   },
   {
    "duration": 6,
    "start_time": "2022-03-24T11:12:42.690Z"
   },
   {
    "duration": 33,
    "start_time": "2022-03-24T11:12:42.699Z"
   },
   {
    "duration": 59,
    "start_time": "2022-03-24T11:12:42.734Z"
   },
   {
    "duration": 157,
    "start_time": "2022-03-24T11:12:42.796Z"
   },
   {
    "duration": 31,
    "start_time": "2022-03-24T11:12:42.967Z"
   },
   {
    "duration": 10,
    "start_time": "2022-03-24T11:12:43.001Z"
   },
   {
    "duration": 332,
    "start_time": "2022-03-24T11:12:43.014Z"
   },
   {
    "duration": 309,
    "start_time": "2022-03-24T11:12:43.350Z"
   },
   {
    "duration": 317,
    "start_time": "2022-03-24T11:12:43.667Z"
   },
   {
    "duration": 310,
    "start_time": "2022-03-24T11:12:43.987Z"
   },
   {
    "duration": 299,
    "start_time": "2022-03-24T11:12:44.299Z"
   },
   {
    "duration": 410,
    "start_time": "2022-03-24T11:12:44.601Z"
   },
   {
    "duration": 1230,
    "start_time": "2022-03-24T11:12:45.014Z"
   },
   {
    "duration": 37,
    "start_time": "2022-03-24T11:12:46.247Z"
   },
   {
    "duration": 10,
    "start_time": "2022-03-24T11:12:46.287Z"
   },
   {
    "duration": 89,
    "start_time": "2022-03-24T11:12:46.300Z"
   },
   {
    "duration": 115,
    "start_time": "2022-03-24T11:12:46.392Z"
   },
   {
    "duration": 89,
    "start_time": "2022-03-24T11:12:46.510Z"
   },
   {
    "duration": 91,
    "start_time": "2022-03-24T11:12:46.602Z"
   },
   {
    "duration": 16,
    "start_time": "2022-03-24T11:12:46.695Z"
   },
   {
    "duration": 58,
    "start_time": "2022-03-24T11:12:46.714Z"
   },
   {
    "duration": 14,
    "start_time": "2022-03-24T11:12:46.774Z"
   },
   {
    "duration": 15,
    "start_time": "2022-03-24T11:12:46.791Z"
   },
   {
    "duration": 1835,
    "start_time": "2022-03-29T04:28:09.315Z"
   },
   {
    "duration": 4,
    "start_time": "2022-03-29T04:28:11.153Z"
   },
   {
    "duration": 36,
    "start_time": "2022-03-29T04:28:11.159Z"
   },
   {
    "duration": 121,
    "start_time": "2022-03-29T04:28:11.197Z"
   },
   {
    "duration": 23,
    "start_time": "2022-03-29T04:28:11.321Z"
   },
   {
    "duration": 47,
    "start_time": "2022-03-29T04:28:11.346Z"
   },
   {
    "duration": 46,
    "start_time": "2022-03-29T04:28:11.396Z"
   },
   {
    "duration": 24,
    "start_time": "2022-03-29T04:28:11.444Z"
   },
   {
    "duration": 38,
    "start_time": "2022-03-29T04:28:11.470Z"
   },
   {
    "duration": 9,
    "start_time": "2022-03-29T04:28:11.510Z"
   },
   {
    "duration": 32,
    "start_time": "2022-03-29T04:28:11.521Z"
   },
   {
    "duration": 36,
    "start_time": "2022-03-29T04:28:11.556Z"
   },
   {
    "duration": 33,
    "start_time": "2022-03-29T04:28:11.595Z"
   },
   {
    "duration": 46,
    "start_time": "2022-03-29T04:28:11.633Z"
   },
   {
    "duration": 63,
    "start_time": "2022-03-29T04:28:11.681Z"
   },
   {
    "duration": 18,
    "start_time": "2022-03-29T04:28:11.746Z"
   },
   {
    "duration": 51,
    "start_time": "2022-03-29T04:28:11.767Z"
   },
   {
    "duration": 9,
    "start_time": "2022-03-29T04:28:11.820Z"
   },
   {
    "duration": 37,
    "start_time": "2022-03-29T04:28:11.831Z"
   },
   {
    "duration": 24,
    "start_time": "2022-03-29T04:28:11.870Z"
   },
   {
    "duration": 49,
    "start_time": "2022-03-29T04:28:11.896Z"
   },
   {
    "duration": 8,
    "start_time": "2022-03-29T04:28:11.947Z"
   },
   {
    "duration": 36,
    "start_time": "2022-03-29T04:28:11.957Z"
   },
   {
    "duration": 720,
    "start_time": "2022-03-29T04:28:11.996Z"
   },
   {
    "duration": 18,
    "start_time": "2022-03-29T04:28:12.718Z"
   },
   {
    "duration": 39,
    "start_time": "2022-03-29T04:28:12.739Z"
   },
   {
    "duration": 348,
    "start_time": "2022-03-29T04:28:12.780Z"
   },
   {
    "duration": 306,
    "start_time": "2022-03-29T04:28:13.130Z"
   },
   {
    "duration": 558,
    "start_time": "2022-03-29T04:28:13.438Z"
   },
   {
    "duration": 14,
    "start_time": "2022-03-29T04:28:13.998Z"
   },
   {
    "duration": 515,
    "start_time": "2022-03-29T04:28:14.014Z"
   },
   {
    "duration": 294,
    "start_time": "2022-03-29T04:28:14.531Z"
   },
   {
    "duration": 21,
    "start_time": "2022-03-29T04:28:48.435Z"
   },
   {
    "duration": 557,
    "start_time": "2022-03-29T04:28:51.368Z"
   },
   {
    "duration": 643,
    "start_time": "2022-03-29T04:29:01.564Z"
   },
   {
    "duration": 21,
    "start_time": "2022-03-29T04:29:42.935Z"
   },
   {
    "duration": 503,
    "start_time": "2022-03-29T04:29:45.095Z"
   },
   {
    "duration": 605,
    "start_time": "2022-03-29T04:39:30.881Z"
   },
   {
    "duration": 596,
    "start_time": "2022-03-29T04:39:39.601Z"
   },
   {
    "duration": 449,
    "start_time": "2022-03-29T04:40:00.662Z"
   },
   {
    "duration": 447,
    "start_time": "2022-03-29T04:40:04.650Z"
   },
   {
    "duration": 35,
    "start_time": "2022-03-29T04:40:15.301Z"
   },
   {
    "duration": 567,
    "start_time": "2022-03-29T04:40:39.046Z"
   },
   {
    "duration": 471,
    "start_time": "2022-03-29T04:40:45.875Z"
   },
   {
    "duration": 9,
    "start_time": "2022-03-29T04:41:44.320Z"
   },
   {
    "duration": 15,
    "start_time": "2022-03-29T04:42:08.721Z"
   },
   {
    "duration": 462,
    "start_time": "2022-03-29T04:43:01.806Z"
   },
   {
    "duration": 454,
    "start_time": "2022-03-29T04:43:32.245Z"
   },
   {
    "duration": 395,
    "start_time": "2022-03-29T04:43:43.548Z"
   },
   {
    "duration": 389,
    "start_time": "2022-03-29T04:45:04.385Z"
   },
   {
    "duration": 558,
    "start_time": "2022-03-29T04:46:08.497Z"
   },
   {
    "duration": 373,
    "start_time": "2022-03-29T04:46:13.899Z"
   },
   {
    "duration": 455,
    "start_time": "2022-03-29T04:47:11.486Z"
   },
   {
    "duration": 427,
    "start_time": "2022-03-29T04:47:37.762Z"
   }
  ],
  "kernelspec": {
   "display_name": "Python 3 (ipykernel)",
   "language": "python",
   "name": "python3"
  },
  "language_info": {
   "codemirror_mode": {
    "name": "ipython",
    "version": 3
   },
   "file_extension": ".py",
   "mimetype": "text/x-python",
   "name": "python",
   "nbconvert_exporter": "python",
   "pygments_lexer": "ipython3",
   "version": "3.9.12"
  },
  "toc": {
   "base_numbering": 1,
   "nav_menu": {},
   "number_sections": true,
   "sideBar": true,
   "skip_h1_title": true,
   "title_cell": "Оглавление",
   "title_sidebar": "Оглавление",
   "toc_cell": true,
   "toc_position": {},
   "toc_section_display": true,
   "toc_window_display": true
  }
 },
 "nbformat": 4,
 "nbformat_minor": 5
}
